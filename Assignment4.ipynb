{
 "cells": [
  {
   "cell_type": "code",
   "execution_count": 287,
   "id": "717cb0ab",
   "metadata": {},
   "outputs": [],
   "source": [
    "import pandas as pd\n",
    "import seaborn as sns\n",
    "import plotly.express as px\n",
    "import matplotlib.pyplot as plt\n"
   ]
  },
  {
   "cell_type": "code",
   "execution_count": 288,
   "id": "e237e109",
   "metadata": {},
   "outputs": [],
   "source": [
    "#Reading the csv file\n",
    "df=pd.read_csv('WA_Fn-UseC_-Telco-Customer-Churn.csv')"
   ]
  },
  {
   "cell_type": "code",
   "execution_count": 289,
   "id": "9214fc01",
   "metadata": {},
   "outputs": [
    {
     "data": {
      "text/html": [
       "<div>\n",
       "<style scoped>\n",
       "    .dataframe tbody tr th:only-of-type {\n",
       "        vertical-align: middle;\n",
       "    }\n",
       "\n",
       "    .dataframe tbody tr th {\n",
       "        vertical-align: top;\n",
       "    }\n",
       "\n",
       "    .dataframe thead th {\n",
       "        text-align: right;\n",
       "    }\n",
       "</style>\n",
       "<table border=\"1\" class=\"dataframe\">\n",
       "  <thead>\n",
       "    <tr style=\"text-align: right;\">\n",
       "      <th></th>\n",
       "      <th>customerID</th>\n",
       "      <th>gender</th>\n",
       "      <th>SeniorCitizen</th>\n",
       "      <th>Partner</th>\n",
       "      <th>Dependents</th>\n",
       "      <th>tenure</th>\n",
       "      <th>PhoneService</th>\n",
       "      <th>MultipleLines</th>\n",
       "      <th>InternetService</th>\n",
       "      <th>OnlineSecurity</th>\n",
       "      <th>...</th>\n",
       "      <th>DeviceProtection</th>\n",
       "      <th>TechSupport</th>\n",
       "      <th>StreamingTV</th>\n",
       "      <th>StreamingMovies</th>\n",
       "      <th>Contract</th>\n",
       "      <th>PaperlessBilling</th>\n",
       "      <th>PaymentMethod</th>\n",
       "      <th>MonthlyCharges</th>\n",
       "      <th>TotalCharges</th>\n",
       "      <th>Churn</th>\n",
       "    </tr>\n",
       "  </thead>\n",
       "  <tbody>\n",
       "    <tr>\n",
       "      <th>0</th>\n",
       "      <td>7590-VHVEG</td>\n",
       "      <td>Female</td>\n",
       "      <td>0</td>\n",
       "      <td>Yes</td>\n",
       "      <td>No</td>\n",
       "      <td>1</td>\n",
       "      <td>No</td>\n",
       "      <td>No phone service</td>\n",
       "      <td>DSL</td>\n",
       "      <td>No</td>\n",
       "      <td>...</td>\n",
       "      <td>No</td>\n",
       "      <td>No</td>\n",
       "      <td>No</td>\n",
       "      <td>No</td>\n",
       "      <td>Month-to-month</td>\n",
       "      <td>Yes</td>\n",
       "      <td>Electronic check</td>\n",
       "      <td>29.85</td>\n",
       "      <td>29.85</td>\n",
       "      <td>No</td>\n",
       "    </tr>\n",
       "    <tr>\n",
       "      <th>1</th>\n",
       "      <td>5575-GNVDE</td>\n",
       "      <td>Male</td>\n",
       "      <td>0</td>\n",
       "      <td>No</td>\n",
       "      <td>No</td>\n",
       "      <td>34</td>\n",
       "      <td>Yes</td>\n",
       "      <td>No</td>\n",
       "      <td>DSL</td>\n",
       "      <td>Yes</td>\n",
       "      <td>...</td>\n",
       "      <td>Yes</td>\n",
       "      <td>No</td>\n",
       "      <td>No</td>\n",
       "      <td>No</td>\n",
       "      <td>One year</td>\n",
       "      <td>No</td>\n",
       "      <td>Mailed check</td>\n",
       "      <td>56.95</td>\n",
       "      <td>1889.5</td>\n",
       "      <td>No</td>\n",
       "    </tr>\n",
       "    <tr>\n",
       "      <th>2</th>\n",
       "      <td>3668-QPYBK</td>\n",
       "      <td>Male</td>\n",
       "      <td>0</td>\n",
       "      <td>No</td>\n",
       "      <td>No</td>\n",
       "      <td>2</td>\n",
       "      <td>Yes</td>\n",
       "      <td>No</td>\n",
       "      <td>DSL</td>\n",
       "      <td>Yes</td>\n",
       "      <td>...</td>\n",
       "      <td>No</td>\n",
       "      <td>No</td>\n",
       "      <td>No</td>\n",
       "      <td>No</td>\n",
       "      <td>Month-to-month</td>\n",
       "      <td>Yes</td>\n",
       "      <td>Mailed check</td>\n",
       "      <td>53.85</td>\n",
       "      <td>108.15</td>\n",
       "      <td>Yes</td>\n",
       "    </tr>\n",
       "    <tr>\n",
       "      <th>3</th>\n",
       "      <td>7795-CFOCW</td>\n",
       "      <td>Male</td>\n",
       "      <td>0</td>\n",
       "      <td>No</td>\n",
       "      <td>No</td>\n",
       "      <td>45</td>\n",
       "      <td>No</td>\n",
       "      <td>No phone service</td>\n",
       "      <td>DSL</td>\n",
       "      <td>Yes</td>\n",
       "      <td>...</td>\n",
       "      <td>Yes</td>\n",
       "      <td>Yes</td>\n",
       "      <td>No</td>\n",
       "      <td>No</td>\n",
       "      <td>One year</td>\n",
       "      <td>No</td>\n",
       "      <td>Bank transfer (automatic)</td>\n",
       "      <td>42.30</td>\n",
       "      <td>1840.75</td>\n",
       "      <td>No</td>\n",
       "    </tr>\n",
       "    <tr>\n",
       "      <th>4</th>\n",
       "      <td>9237-HQITU</td>\n",
       "      <td>Female</td>\n",
       "      <td>0</td>\n",
       "      <td>No</td>\n",
       "      <td>No</td>\n",
       "      <td>2</td>\n",
       "      <td>Yes</td>\n",
       "      <td>No</td>\n",
       "      <td>Fiber optic</td>\n",
       "      <td>No</td>\n",
       "      <td>...</td>\n",
       "      <td>No</td>\n",
       "      <td>No</td>\n",
       "      <td>No</td>\n",
       "      <td>No</td>\n",
       "      <td>Month-to-month</td>\n",
       "      <td>Yes</td>\n",
       "      <td>Electronic check</td>\n",
       "      <td>70.70</td>\n",
       "      <td>151.65</td>\n",
       "      <td>Yes</td>\n",
       "    </tr>\n",
       "  </tbody>\n",
       "</table>\n",
       "<p>5 rows × 21 columns</p>\n",
       "</div>"
      ],
      "text/plain": [
       "   customerID  gender  SeniorCitizen Partner Dependents  tenure PhoneService  \\\n",
       "0  7590-VHVEG  Female              0     Yes         No       1           No   \n",
       "1  5575-GNVDE    Male              0      No         No      34          Yes   \n",
       "2  3668-QPYBK    Male              0      No         No       2          Yes   \n",
       "3  7795-CFOCW    Male              0      No         No      45           No   \n",
       "4  9237-HQITU  Female              0      No         No       2          Yes   \n",
       "\n",
       "      MultipleLines InternetService OnlineSecurity  ... DeviceProtection  \\\n",
       "0  No phone service             DSL             No  ...               No   \n",
       "1                No             DSL            Yes  ...              Yes   \n",
       "2                No             DSL            Yes  ...               No   \n",
       "3  No phone service             DSL            Yes  ...              Yes   \n",
       "4                No     Fiber optic             No  ...               No   \n",
       "\n",
       "  TechSupport StreamingTV StreamingMovies        Contract PaperlessBilling  \\\n",
       "0          No          No              No  Month-to-month              Yes   \n",
       "1          No          No              No        One year               No   \n",
       "2          No          No              No  Month-to-month              Yes   \n",
       "3         Yes          No              No        One year               No   \n",
       "4          No          No              No  Month-to-month              Yes   \n",
       "\n",
       "               PaymentMethod MonthlyCharges  TotalCharges Churn  \n",
       "0           Electronic check          29.85         29.85    No  \n",
       "1               Mailed check          56.95        1889.5    No  \n",
       "2               Mailed check          53.85        108.15   Yes  \n",
       "3  Bank transfer (automatic)          42.30       1840.75    No  \n",
       "4           Electronic check          70.70        151.65   Yes  \n",
       "\n",
       "[5 rows x 21 columns]"
      ]
     },
     "execution_count": 289,
     "metadata": {},
     "output_type": "execute_result"
    }
   ],
   "source": [
    "df.head()"
   ]
  },
  {
   "cell_type": "code",
   "execution_count": 290,
   "id": "54187fc8",
   "metadata": {
    "scrolled": true
   },
   "outputs": [
    {
     "data": {
      "text/html": [
       "<div>\n",
       "<style scoped>\n",
       "    .dataframe tbody tr th:only-of-type {\n",
       "        vertical-align: middle;\n",
       "    }\n",
       "\n",
       "    .dataframe tbody tr th {\n",
       "        vertical-align: top;\n",
       "    }\n",
       "\n",
       "    .dataframe thead th {\n",
       "        text-align: right;\n",
       "    }\n",
       "</style>\n",
       "<table border=\"1\" class=\"dataframe\">\n",
       "  <thead>\n",
       "    <tr style=\"text-align: right;\">\n",
       "      <th></th>\n",
       "      <th>customerID</th>\n",
       "      <th>gender</th>\n",
       "      <th>SeniorCitizen</th>\n",
       "      <th>Partner</th>\n",
       "      <th>Dependents</th>\n",
       "      <th>tenure</th>\n",
       "      <th>PhoneService</th>\n",
       "      <th>MultipleLines</th>\n",
       "      <th>InternetService</th>\n",
       "      <th>OnlineSecurity</th>\n",
       "      <th>...</th>\n",
       "      <th>DeviceProtection</th>\n",
       "      <th>TechSupport</th>\n",
       "      <th>StreamingTV</th>\n",
       "      <th>StreamingMovies</th>\n",
       "      <th>Contract</th>\n",
       "      <th>PaperlessBilling</th>\n",
       "      <th>PaymentMethod</th>\n",
       "      <th>MonthlyCharges</th>\n",
       "      <th>TotalCharges</th>\n",
       "      <th>Churn</th>\n",
       "    </tr>\n",
       "  </thead>\n",
       "  <tbody>\n",
       "    <tr>\n",
       "      <th>7038</th>\n",
       "      <td>6840-RESVB</td>\n",
       "      <td>Male</td>\n",
       "      <td>0</td>\n",
       "      <td>Yes</td>\n",
       "      <td>Yes</td>\n",
       "      <td>24</td>\n",
       "      <td>Yes</td>\n",
       "      <td>Yes</td>\n",
       "      <td>DSL</td>\n",
       "      <td>Yes</td>\n",
       "      <td>...</td>\n",
       "      <td>Yes</td>\n",
       "      <td>Yes</td>\n",
       "      <td>Yes</td>\n",
       "      <td>Yes</td>\n",
       "      <td>One year</td>\n",
       "      <td>Yes</td>\n",
       "      <td>Mailed check</td>\n",
       "      <td>84.80</td>\n",
       "      <td>1990.5</td>\n",
       "      <td>No</td>\n",
       "    </tr>\n",
       "    <tr>\n",
       "      <th>7039</th>\n",
       "      <td>2234-XADUH</td>\n",
       "      <td>Female</td>\n",
       "      <td>0</td>\n",
       "      <td>Yes</td>\n",
       "      <td>Yes</td>\n",
       "      <td>72</td>\n",
       "      <td>Yes</td>\n",
       "      <td>Yes</td>\n",
       "      <td>Fiber optic</td>\n",
       "      <td>No</td>\n",
       "      <td>...</td>\n",
       "      <td>Yes</td>\n",
       "      <td>No</td>\n",
       "      <td>Yes</td>\n",
       "      <td>Yes</td>\n",
       "      <td>One year</td>\n",
       "      <td>Yes</td>\n",
       "      <td>Credit card (automatic)</td>\n",
       "      <td>103.20</td>\n",
       "      <td>7362.9</td>\n",
       "      <td>No</td>\n",
       "    </tr>\n",
       "    <tr>\n",
       "      <th>7040</th>\n",
       "      <td>4801-JZAZL</td>\n",
       "      <td>Female</td>\n",
       "      <td>0</td>\n",
       "      <td>Yes</td>\n",
       "      <td>Yes</td>\n",
       "      <td>11</td>\n",
       "      <td>No</td>\n",
       "      <td>No phone service</td>\n",
       "      <td>DSL</td>\n",
       "      <td>Yes</td>\n",
       "      <td>...</td>\n",
       "      <td>No</td>\n",
       "      <td>No</td>\n",
       "      <td>No</td>\n",
       "      <td>No</td>\n",
       "      <td>Month-to-month</td>\n",
       "      <td>Yes</td>\n",
       "      <td>Electronic check</td>\n",
       "      <td>29.60</td>\n",
       "      <td>346.45</td>\n",
       "      <td>No</td>\n",
       "    </tr>\n",
       "    <tr>\n",
       "      <th>7041</th>\n",
       "      <td>8361-LTMKD</td>\n",
       "      <td>Male</td>\n",
       "      <td>1</td>\n",
       "      <td>Yes</td>\n",
       "      <td>No</td>\n",
       "      <td>4</td>\n",
       "      <td>Yes</td>\n",
       "      <td>Yes</td>\n",
       "      <td>Fiber optic</td>\n",
       "      <td>No</td>\n",
       "      <td>...</td>\n",
       "      <td>No</td>\n",
       "      <td>No</td>\n",
       "      <td>No</td>\n",
       "      <td>No</td>\n",
       "      <td>Month-to-month</td>\n",
       "      <td>Yes</td>\n",
       "      <td>Mailed check</td>\n",
       "      <td>74.40</td>\n",
       "      <td>306.6</td>\n",
       "      <td>Yes</td>\n",
       "    </tr>\n",
       "    <tr>\n",
       "      <th>7042</th>\n",
       "      <td>3186-AJIEK</td>\n",
       "      <td>Male</td>\n",
       "      <td>0</td>\n",
       "      <td>No</td>\n",
       "      <td>No</td>\n",
       "      <td>66</td>\n",
       "      <td>Yes</td>\n",
       "      <td>No</td>\n",
       "      <td>Fiber optic</td>\n",
       "      <td>Yes</td>\n",
       "      <td>...</td>\n",
       "      <td>Yes</td>\n",
       "      <td>Yes</td>\n",
       "      <td>Yes</td>\n",
       "      <td>Yes</td>\n",
       "      <td>Two year</td>\n",
       "      <td>Yes</td>\n",
       "      <td>Bank transfer (automatic)</td>\n",
       "      <td>105.65</td>\n",
       "      <td>6844.5</td>\n",
       "      <td>No</td>\n",
       "    </tr>\n",
       "  </tbody>\n",
       "</table>\n",
       "<p>5 rows × 21 columns</p>\n",
       "</div>"
      ],
      "text/plain": [
       "      customerID  gender  SeniorCitizen Partner Dependents  tenure  \\\n",
       "7038  6840-RESVB    Male              0     Yes        Yes      24   \n",
       "7039  2234-XADUH  Female              0     Yes        Yes      72   \n",
       "7040  4801-JZAZL  Female              0     Yes        Yes      11   \n",
       "7041  8361-LTMKD    Male              1     Yes         No       4   \n",
       "7042  3186-AJIEK    Male              0      No         No      66   \n",
       "\n",
       "     PhoneService     MultipleLines InternetService OnlineSecurity  ...  \\\n",
       "7038          Yes               Yes             DSL            Yes  ...   \n",
       "7039          Yes               Yes     Fiber optic             No  ...   \n",
       "7040           No  No phone service             DSL            Yes  ...   \n",
       "7041          Yes               Yes     Fiber optic             No  ...   \n",
       "7042          Yes                No     Fiber optic            Yes  ...   \n",
       "\n",
       "     DeviceProtection TechSupport StreamingTV StreamingMovies        Contract  \\\n",
       "7038              Yes         Yes         Yes             Yes        One year   \n",
       "7039              Yes          No         Yes             Yes        One year   \n",
       "7040               No          No          No              No  Month-to-month   \n",
       "7041               No          No          No              No  Month-to-month   \n",
       "7042              Yes         Yes         Yes             Yes        Two year   \n",
       "\n",
       "     PaperlessBilling              PaymentMethod MonthlyCharges  TotalCharges  \\\n",
       "7038              Yes               Mailed check          84.80        1990.5   \n",
       "7039              Yes    Credit card (automatic)         103.20        7362.9   \n",
       "7040              Yes           Electronic check          29.60        346.45   \n",
       "7041              Yes               Mailed check          74.40         306.6   \n",
       "7042              Yes  Bank transfer (automatic)         105.65        6844.5   \n",
       "\n",
       "     Churn  \n",
       "7038    No  \n",
       "7039    No  \n",
       "7040    No  \n",
       "7041   Yes  \n",
       "7042    No  \n",
       "\n",
       "[5 rows x 21 columns]"
      ]
     },
     "execution_count": 290,
     "metadata": {},
     "output_type": "execute_result"
    }
   ],
   "source": [
    "df.tail()"
   ]
  },
  {
   "cell_type": "code",
   "execution_count": 291,
   "id": "36d0a73d",
   "metadata": {
    "scrolled": true
   },
   "outputs": [
    {
     "data": {
      "text/plain": [
       "customerID           object\n",
       "gender               object\n",
       "SeniorCitizen         int64\n",
       "Partner              object\n",
       "Dependents           object\n",
       "tenure                int64\n",
       "PhoneService         object\n",
       "MultipleLines        object\n",
       "InternetService      object\n",
       "OnlineSecurity       object\n",
       "OnlineBackup         object\n",
       "DeviceProtection     object\n",
       "TechSupport          object\n",
       "StreamingTV          object\n",
       "StreamingMovies      object\n",
       "Contract             object\n",
       "PaperlessBilling     object\n",
       "PaymentMethod        object\n",
       "MonthlyCharges      float64\n",
       "TotalCharges         object\n",
       "Churn                object\n",
       "dtype: object"
      ]
     },
     "execution_count": 291,
     "metadata": {},
     "output_type": "execute_result"
    }
   ],
   "source": [
    "df.dtypes"
   ]
  },
  {
   "cell_type": "code",
   "execution_count": 24,
   "id": "44afe02a",
   "metadata": {},
   "outputs": [],
   "source": []
  },
  {
   "cell_type": "markdown",
   "id": "59600eed",
   "metadata": {},
   "source": [
    "From the analysis above two things can be noted:\n",
    "1)The column for TotalCharges is of \"object\" type, this needs to be change to float64 data type\n",
    "2) Most service rows havre some entry of \"No\" and \"No Phone service\" type, this all needs to be changed to \"No\""
   ]
  },
  {
   "cell_type": "code",
   "execution_count": null,
   "id": "8f9ca1e2",
   "metadata": {},
   "outputs": [],
   "source": [
    "#investigating this further by extracting the first 490 rows"
   ]
  },
  {
   "cell_type": "code",
   "execution_count": 27,
   "id": "b76cd162",
   "metadata": {},
   "outputs": [
    {
     "data": {
      "text/html": [
       "<div>\n",
       "<style scoped>\n",
       "    .dataframe tbody tr th:only-of-type {\n",
       "        vertical-align: middle;\n",
       "    }\n",
       "\n",
       "    .dataframe tbody tr th {\n",
       "        vertical-align: top;\n",
       "    }\n",
       "\n",
       "    .dataframe thead th {\n",
       "        text-align: right;\n",
       "    }\n",
       "</style>\n",
       "<table border=\"1\" class=\"dataframe\">\n",
       "  <thead>\n",
       "    <tr style=\"text-align: right;\">\n",
       "      <th></th>\n",
       "      <th>customerID</th>\n",
       "      <th>gender</th>\n",
       "      <th>SeniorCitizen</th>\n",
       "      <th>Partner</th>\n",
       "      <th>Dependents</th>\n",
       "      <th>tenure</th>\n",
       "      <th>PhoneService</th>\n",
       "      <th>MultipleLines</th>\n",
       "      <th>InternetService</th>\n",
       "      <th>OnlineSecurity</th>\n",
       "      <th>...</th>\n",
       "      <th>DeviceProtection</th>\n",
       "      <th>TechSupport</th>\n",
       "      <th>StreamingTV</th>\n",
       "      <th>StreamingMovies</th>\n",
       "      <th>Contract</th>\n",
       "      <th>PaperlessBilling</th>\n",
       "      <th>PaymentMethod</th>\n",
       "      <th>MonthlyCharges</th>\n",
       "      <th>TotalCharges</th>\n",
       "      <th>Churn</th>\n",
       "    </tr>\n",
       "  </thead>\n",
       "  <tbody>\n",
       "    <tr>\n",
       "      <th>0</th>\n",
       "      <td>7590-VHVEG</td>\n",
       "      <td>Female</td>\n",
       "      <td>0</td>\n",
       "      <td>Yes</td>\n",
       "      <td>No</td>\n",
       "      <td>1</td>\n",
       "      <td>No</td>\n",
       "      <td>No phone service</td>\n",
       "      <td>DSL</td>\n",
       "      <td>No</td>\n",
       "      <td>...</td>\n",
       "      <td>No</td>\n",
       "      <td>No</td>\n",
       "      <td>No</td>\n",
       "      <td>No</td>\n",
       "      <td>Month-to-month</td>\n",
       "      <td>Yes</td>\n",
       "      <td>Electronic check</td>\n",
       "      <td>29.85</td>\n",
       "      <td>29.85</td>\n",
       "      <td>No</td>\n",
       "    </tr>\n",
       "    <tr>\n",
       "      <th>1</th>\n",
       "      <td>5575-GNVDE</td>\n",
       "      <td>Male</td>\n",
       "      <td>0</td>\n",
       "      <td>No</td>\n",
       "      <td>No</td>\n",
       "      <td>34</td>\n",
       "      <td>Yes</td>\n",
       "      <td>No</td>\n",
       "      <td>DSL</td>\n",
       "      <td>Yes</td>\n",
       "      <td>...</td>\n",
       "      <td>Yes</td>\n",
       "      <td>No</td>\n",
       "      <td>No</td>\n",
       "      <td>No</td>\n",
       "      <td>One year</td>\n",
       "      <td>No</td>\n",
       "      <td>Mailed check</td>\n",
       "      <td>56.95</td>\n",
       "      <td>1889.5</td>\n",
       "      <td>No</td>\n",
       "    </tr>\n",
       "    <tr>\n",
       "      <th>2</th>\n",
       "      <td>3668-QPYBK</td>\n",
       "      <td>Male</td>\n",
       "      <td>0</td>\n",
       "      <td>No</td>\n",
       "      <td>No</td>\n",
       "      <td>2</td>\n",
       "      <td>Yes</td>\n",
       "      <td>No</td>\n",
       "      <td>DSL</td>\n",
       "      <td>Yes</td>\n",
       "      <td>...</td>\n",
       "      <td>No</td>\n",
       "      <td>No</td>\n",
       "      <td>No</td>\n",
       "      <td>No</td>\n",
       "      <td>Month-to-month</td>\n",
       "      <td>Yes</td>\n",
       "      <td>Mailed check</td>\n",
       "      <td>53.85</td>\n",
       "      <td>108.15</td>\n",
       "      <td>Yes</td>\n",
       "    </tr>\n",
       "    <tr>\n",
       "      <th>3</th>\n",
       "      <td>7795-CFOCW</td>\n",
       "      <td>Male</td>\n",
       "      <td>0</td>\n",
       "      <td>No</td>\n",
       "      <td>No</td>\n",
       "      <td>45</td>\n",
       "      <td>No</td>\n",
       "      <td>No phone service</td>\n",
       "      <td>DSL</td>\n",
       "      <td>Yes</td>\n",
       "      <td>...</td>\n",
       "      <td>Yes</td>\n",
       "      <td>Yes</td>\n",
       "      <td>No</td>\n",
       "      <td>No</td>\n",
       "      <td>One year</td>\n",
       "      <td>No</td>\n",
       "      <td>Bank transfer (automatic)</td>\n",
       "      <td>42.30</td>\n",
       "      <td>1840.75</td>\n",
       "      <td>No</td>\n",
       "    </tr>\n",
       "    <tr>\n",
       "      <th>4</th>\n",
       "      <td>9237-HQITU</td>\n",
       "      <td>Female</td>\n",
       "      <td>0</td>\n",
       "      <td>No</td>\n",
       "      <td>No</td>\n",
       "      <td>2</td>\n",
       "      <td>Yes</td>\n",
       "      <td>No</td>\n",
       "      <td>Fiber optic</td>\n",
       "      <td>No</td>\n",
       "      <td>...</td>\n",
       "      <td>No</td>\n",
       "      <td>No</td>\n",
       "      <td>No</td>\n",
       "      <td>No</td>\n",
       "      <td>Month-to-month</td>\n",
       "      <td>Yes</td>\n",
       "      <td>Electronic check</td>\n",
       "      <td>70.70</td>\n",
       "      <td>151.65</td>\n",
       "      <td>Yes</td>\n",
       "    </tr>\n",
       "    <tr>\n",
       "      <th>...</th>\n",
       "      <td>...</td>\n",
       "      <td>...</td>\n",
       "      <td>...</td>\n",
       "      <td>...</td>\n",
       "      <td>...</td>\n",
       "      <td>...</td>\n",
       "      <td>...</td>\n",
       "      <td>...</td>\n",
       "      <td>...</td>\n",
       "      <td>...</td>\n",
       "      <td>...</td>\n",
       "      <td>...</td>\n",
       "      <td>...</td>\n",
       "      <td>...</td>\n",
       "      <td>...</td>\n",
       "      <td>...</td>\n",
       "      <td>...</td>\n",
       "      <td>...</td>\n",
       "      <td>...</td>\n",
       "      <td>...</td>\n",
       "      <td>...</td>\n",
       "    </tr>\n",
       "    <tr>\n",
       "      <th>485</th>\n",
       "      <td>7971-HLVXI</td>\n",
       "      <td>Male</td>\n",
       "      <td>0</td>\n",
       "      <td>Yes</td>\n",
       "      <td>Yes</td>\n",
       "      <td>72</td>\n",
       "      <td>Yes</td>\n",
       "      <td>Yes</td>\n",
       "      <td>Fiber optic</td>\n",
       "      <td>No</td>\n",
       "      <td>...</td>\n",
       "      <td>No</td>\n",
       "      <td>No</td>\n",
       "      <td>No</td>\n",
       "      <td>Yes</td>\n",
       "      <td>Two year</td>\n",
       "      <td>Yes</td>\n",
       "      <td>Credit card (automatic)</td>\n",
       "      <td>84.50</td>\n",
       "      <td>6130.85</td>\n",
       "      <td>No</td>\n",
       "    </tr>\n",
       "    <tr>\n",
       "      <th>486</th>\n",
       "      <td>9094-AZPHK</td>\n",
       "      <td>Female</td>\n",
       "      <td>0</td>\n",
       "      <td>No</td>\n",
       "      <td>No</td>\n",
       "      <td>15</td>\n",
       "      <td>Yes</td>\n",
       "      <td>Yes</td>\n",
       "      <td>Fiber optic</td>\n",
       "      <td>No</td>\n",
       "      <td>...</td>\n",
       "      <td>No</td>\n",
       "      <td>No</td>\n",
       "      <td>Yes</td>\n",
       "      <td>Yes</td>\n",
       "      <td>Month-to-month</td>\n",
       "      <td>Yes</td>\n",
       "      <td>Electronic check</td>\n",
       "      <td>100.15</td>\n",
       "      <td>1415</td>\n",
       "      <td>No</td>\n",
       "    </tr>\n",
       "    <tr>\n",
       "      <th>487</th>\n",
       "      <td>3649-JPUGY</td>\n",
       "      <td>Male</td>\n",
       "      <td>0</td>\n",
       "      <td>No</td>\n",
       "      <td>No</td>\n",
       "      <td>72</td>\n",
       "      <td>Yes</td>\n",
       "      <td>Yes</td>\n",
       "      <td>DSL</td>\n",
       "      <td>No</td>\n",
       "      <td>...</td>\n",
       "      <td>Yes</td>\n",
       "      <td>Yes</td>\n",
       "      <td>Yes</td>\n",
       "      <td>Yes</td>\n",
       "      <td>Two year</td>\n",
       "      <td>Yes</td>\n",
       "      <td>Bank transfer (automatic)</td>\n",
       "      <td>88.60</td>\n",
       "      <td>6201.95</td>\n",
       "      <td>No</td>\n",
       "    </tr>\n",
       "    <tr>\n",
       "      <th>488</th>\n",
       "      <td>4472-LVYGI</td>\n",
       "      <td>Female</td>\n",
       "      <td>0</td>\n",
       "      <td>Yes</td>\n",
       "      <td>Yes</td>\n",
       "      <td>0</td>\n",
       "      <td>No</td>\n",
       "      <td>No phone service</td>\n",
       "      <td>DSL</td>\n",
       "      <td>Yes</td>\n",
       "      <td>...</td>\n",
       "      <td>Yes</td>\n",
       "      <td>Yes</td>\n",
       "      <td>Yes</td>\n",
       "      <td>No</td>\n",
       "      <td>Two year</td>\n",
       "      <td>Yes</td>\n",
       "      <td>Bank transfer (automatic)</td>\n",
       "      <td>52.55</td>\n",
       "      <td></td>\n",
       "      <td>No</td>\n",
       "    </tr>\n",
       "    <tr>\n",
       "      <th>489</th>\n",
       "      <td>8372-JUXUI</td>\n",
       "      <td>Male</td>\n",
       "      <td>0</td>\n",
       "      <td>No</td>\n",
       "      <td>Yes</td>\n",
       "      <td>1</td>\n",
       "      <td>Yes</td>\n",
       "      <td>Yes</td>\n",
       "      <td>Fiber optic</td>\n",
       "      <td>No</td>\n",
       "      <td>...</td>\n",
       "      <td>No</td>\n",
       "      <td>No</td>\n",
       "      <td>No</td>\n",
       "      <td>No</td>\n",
       "      <td>Month-to-month</td>\n",
       "      <td>Yes</td>\n",
       "      <td>Electronic check</td>\n",
       "      <td>74.35</td>\n",
       "      <td>74.35</td>\n",
       "      <td>Yes</td>\n",
       "    </tr>\n",
       "  </tbody>\n",
       "</table>\n",
       "<p>490 rows × 21 columns</p>\n",
       "</div>"
      ],
      "text/plain": [
       "     customerID  gender  SeniorCitizen Partner Dependents  tenure  \\\n",
       "0    7590-VHVEG  Female              0     Yes         No       1   \n",
       "1    5575-GNVDE    Male              0      No         No      34   \n",
       "2    3668-QPYBK    Male              0      No         No       2   \n",
       "3    7795-CFOCW    Male              0      No         No      45   \n",
       "4    9237-HQITU  Female              0      No         No       2   \n",
       "..          ...     ...            ...     ...        ...     ...   \n",
       "485  7971-HLVXI    Male              0     Yes        Yes      72   \n",
       "486  9094-AZPHK  Female              0      No         No      15   \n",
       "487  3649-JPUGY    Male              0      No         No      72   \n",
       "488  4472-LVYGI  Female              0     Yes        Yes       0   \n",
       "489  8372-JUXUI    Male              0      No        Yes       1   \n",
       "\n",
       "    PhoneService     MultipleLines InternetService OnlineSecurity  ...  \\\n",
       "0             No  No phone service             DSL             No  ...   \n",
       "1            Yes                No             DSL            Yes  ...   \n",
       "2            Yes                No             DSL            Yes  ...   \n",
       "3             No  No phone service             DSL            Yes  ...   \n",
       "4            Yes                No     Fiber optic             No  ...   \n",
       "..           ...               ...             ...            ...  ...   \n",
       "485          Yes               Yes     Fiber optic             No  ...   \n",
       "486          Yes               Yes     Fiber optic             No  ...   \n",
       "487          Yes               Yes             DSL             No  ...   \n",
       "488           No  No phone service             DSL            Yes  ...   \n",
       "489          Yes               Yes     Fiber optic             No  ...   \n",
       "\n",
       "    DeviceProtection TechSupport StreamingTV StreamingMovies        Contract  \\\n",
       "0                 No          No          No              No  Month-to-month   \n",
       "1                Yes          No          No              No        One year   \n",
       "2                 No          No          No              No  Month-to-month   \n",
       "3                Yes         Yes          No              No        One year   \n",
       "4                 No          No          No              No  Month-to-month   \n",
       "..               ...         ...         ...             ...             ...   \n",
       "485               No          No          No             Yes        Two year   \n",
       "486               No          No         Yes             Yes  Month-to-month   \n",
       "487              Yes         Yes         Yes             Yes        Two year   \n",
       "488              Yes         Yes         Yes              No        Two year   \n",
       "489               No          No          No              No  Month-to-month   \n",
       "\n",
       "    PaperlessBilling              PaymentMethod MonthlyCharges  TotalCharges  \\\n",
       "0                Yes           Electronic check          29.85         29.85   \n",
       "1                 No               Mailed check          56.95        1889.5   \n",
       "2                Yes               Mailed check          53.85        108.15   \n",
       "3                 No  Bank transfer (automatic)          42.30       1840.75   \n",
       "4                Yes           Electronic check          70.70        151.65   \n",
       "..               ...                        ...            ...           ...   \n",
       "485              Yes    Credit card (automatic)          84.50       6130.85   \n",
       "486              Yes           Electronic check         100.15          1415   \n",
       "487              Yes  Bank transfer (automatic)          88.60       6201.95   \n",
       "488              Yes  Bank transfer (automatic)          52.55                 \n",
       "489              Yes           Electronic check          74.35         74.35   \n",
       "\n",
       "    Churn  \n",
       "0      No  \n",
       "1      No  \n",
       "2     Yes  \n",
       "3      No  \n",
       "4     Yes  \n",
       "..    ...  \n",
       "485    No  \n",
       "486    No  \n",
       "487    No  \n",
       "488    No  \n",
       "489   Yes  \n",
       "\n",
       "[490 rows x 21 columns]"
      ]
     },
     "execution_count": 27,
     "metadata": {},
     "output_type": "execute_result"
    }
   ],
   "source": [
    "df.head(490) #wanted to see the first 490 rows for missing values on the Total charge column"
   ]
  },
  {
   "cell_type": "code",
   "execution_count": null,
   "id": "6923099d",
   "metadata": {},
   "outputs": [],
   "source": [
    "# I can see that in row 488, the entry for TotalCharges is empty, \n",
    "#this needs further investigation to see if there are more empty rows"
   ]
  },
  {
   "cell_type": "code",
   "execution_count": 292,
   "id": "d9aa7a20",
   "metadata": {
    "scrolled": true
   },
   "outputs": [
    {
     "data": {
      "text/html": [
       "<div>\n",
       "<style scoped>\n",
       "    .dataframe tbody tr th:only-of-type {\n",
       "        vertical-align: middle;\n",
       "    }\n",
       "\n",
       "    .dataframe tbody tr th {\n",
       "        vertical-align: top;\n",
       "    }\n",
       "\n",
       "    .dataframe thead th {\n",
       "        text-align: right;\n",
       "    }\n",
       "</style>\n",
       "<table border=\"1\" class=\"dataframe\">\n",
       "  <thead>\n",
       "    <tr style=\"text-align: right;\">\n",
       "      <th></th>\n",
       "      <th>customerID</th>\n",
       "      <th>gender</th>\n",
       "      <th>SeniorCitizen</th>\n",
       "      <th>Partner</th>\n",
       "      <th>Dependents</th>\n",
       "      <th>tenure</th>\n",
       "      <th>PhoneService</th>\n",
       "      <th>MultipleLines</th>\n",
       "      <th>InternetService</th>\n",
       "      <th>OnlineSecurity</th>\n",
       "      <th>...</th>\n",
       "      <th>DeviceProtection</th>\n",
       "      <th>TechSupport</th>\n",
       "      <th>StreamingTV</th>\n",
       "      <th>StreamingMovies</th>\n",
       "      <th>Contract</th>\n",
       "      <th>PaperlessBilling</th>\n",
       "      <th>PaymentMethod</th>\n",
       "      <th>MonthlyCharges</th>\n",
       "      <th>TotalCharges</th>\n",
       "      <th>Churn</th>\n",
       "    </tr>\n",
       "  </thead>\n",
       "  <tbody>\n",
       "    <tr>\n",
       "      <th>488</th>\n",
       "      <td>4472-LVYGI</td>\n",
       "      <td>Female</td>\n",
       "      <td>0</td>\n",
       "      <td>Yes</td>\n",
       "      <td>Yes</td>\n",
       "      <td>0</td>\n",
       "      <td>No</td>\n",
       "      <td>No phone service</td>\n",
       "      <td>DSL</td>\n",
       "      <td>Yes</td>\n",
       "      <td>...</td>\n",
       "      <td>Yes</td>\n",
       "      <td>Yes</td>\n",
       "      <td>Yes</td>\n",
       "      <td>No</td>\n",
       "      <td>Two year</td>\n",
       "      <td>Yes</td>\n",
       "      <td>Bank transfer (automatic)</td>\n",
       "      <td>52.55</td>\n",
       "      <td></td>\n",
       "      <td>No</td>\n",
       "    </tr>\n",
       "    <tr>\n",
       "      <th>753</th>\n",
       "      <td>3115-CZMZD</td>\n",
       "      <td>Male</td>\n",
       "      <td>0</td>\n",
       "      <td>No</td>\n",
       "      <td>Yes</td>\n",
       "      <td>0</td>\n",
       "      <td>Yes</td>\n",
       "      <td>No</td>\n",
       "      <td>No</td>\n",
       "      <td>No internet service</td>\n",
       "      <td>...</td>\n",
       "      <td>No internet service</td>\n",
       "      <td>No internet service</td>\n",
       "      <td>No internet service</td>\n",
       "      <td>No internet service</td>\n",
       "      <td>Two year</td>\n",
       "      <td>No</td>\n",
       "      <td>Mailed check</td>\n",
       "      <td>20.25</td>\n",
       "      <td></td>\n",
       "      <td>No</td>\n",
       "    </tr>\n",
       "    <tr>\n",
       "      <th>936</th>\n",
       "      <td>5709-LVOEQ</td>\n",
       "      <td>Female</td>\n",
       "      <td>0</td>\n",
       "      <td>Yes</td>\n",
       "      <td>Yes</td>\n",
       "      <td>0</td>\n",
       "      <td>Yes</td>\n",
       "      <td>No</td>\n",
       "      <td>DSL</td>\n",
       "      <td>Yes</td>\n",
       "      <td>...</td>\n",
       "      <td>Yes</td>\n",
       "      <td>No</td>\n",
       "      <td>Yes</td>\n",
       "      <td>Yes</td>\n",
       "      <td>Two year</td>\n",
       "      <td>No</td>\n",
       "      <td>Mailed check</td>\n",
       "      <td>80.85</td>\n",
       "      <td></td>\n",
       "      <td>No</td>\n",
       "    </tr>\n",
       "    <tr>\n",
       "      <th>1082</th>\n",
       "      <td>4367-NUYAO</td>\n",
       "      <td>Male</td>\n",
       "      <td>0</td>\n",
       "      <td>Yes</td>\n",
       "      <td>Yes</td>\n",
       "      <td>0</td>\n",
       "      <td>Yes</td>\n",
       "      <td>Yes</td>\n",
       "      <td>No</td>\n",
       "      <td>No internet service</td>\n",
       "      <td>...</td>\n",
       "      <td>No internet service</td>\n",
       "      <td>No internet service</td>\n",
       "      <td>No internet service</td>\n",
       "      <td>No internet service</td>\n",
       "      <td>Two year</td>\n",
       "      <td>No</td>\n",
       "      <td>Mailed check</td>\n",
       "      <td>25.75</td>\n",
       "      <td></td>\n",
       "      <td>No</td>\n",
       "    </tr>\n",
       "    <tr>\n",
       "      <th>1340</th>\n",
       "      <td>1371-DWPAZ</td>\n",
       "      <td>Female</td>\n",
       "      <td>0</td>\n",
       "      <td>Yes</td>\n",
       "      <td>Yes</td>\n",
       "      <td>0</td>\n",
       "      <td>No</td>\n",
       "      <td>No phone service</td>\n",
       "      <td>DSL</td>\n",
       "      <td>Yes</td>\n",
       "      <td>...</td>\n",
       "      <td>Yes</td>\n",
       "      <td>Yes</td>\n",
       "      <td>Yes</td>\n",
       "      <td>No</td>\n",
       "      <td>Two year</td>\n",
       "      <td>No</td>\n",
       "      <td>Credit card (automatic)</td>\n",
       "      <td>56.05</td>\n",
       "      <td></td>\n",
       "      <td>No</td>\n",
       "    </tr>\n",
       "    <tr>\n",
       "      <th>3331</th>\n",
       "      <td>7644-OMVMY</td>\n",
       "      <td>Male</td>\n",
       "      <td>0</td>\n",
       "      <td>Yes</td>\n",
       "      <td>Yes</td>\n",
       "      <td>0</td>\n",
       "      <td>Yes</td>\n",
       "      <td>No</td>\n",
       "      <td>No</td>\n",
       "      <td>No internet service</td>\n",
       "      <td>...</td>\n",
       "      <td>No internet service</td>\n",
       "      <td>No internet service</td>\n",
       "      <td>No internet service</td>\n",
       "      <td>No internet service</td>\n",
       "      <td>Two year</td>\n",
       "      <td>No</td>\n",
       "      <td>Mailed check</td>\n",
       "      <td>19.85</td>\n",
       "      <td></td>\n",
       "      <td>No</td>\n",
       "    </tr>\n",
       "    <tr>\n",
       "      <th>3826</th>\n",
       "      <td>3213-VVOLG</td>\n",
       "      <td>Male</td>\n",
       "      <td>0</td>\n",
       "      <td>Yes</td>\n",
       "      <td>Yes</td>\n",
       "      <td>0</td>\n",
       "      <td>Yes</td>\n",
       "      <td>Yes</td>\n",
       "      <td>No</td>\n",
       "      <td>No internet service</td>\n",
       "      <td>...</td>\n",
       "      <td>No internet service</td>\n",
       "      <td>No internet service</td>\n",
       "      <td>No internet service</td>\n",
       "      <td>No internet service</td>\n",
       "      <td>Two year</td>\n",
       "      <td>No</td>\n",
       "      <td>Mailed check</td>\n",
       "      <td>25.35</td>\n",
       "      <td></td>\n",
       "      <td>No</td>\n",
       "    </tr>\n",
       "    <tr>\n",
       "      <th>4380</th>\n",
       "      <td>2520-SGTTA</td>\n",
       "      <td>Female</td>\n",
       "      <td>0</td>\n",
       "      <td>Yes</td>\n",
       "      <td>Yes</td>\n",
       "      <td>0</td>\n",
       "      <td>Yes</td>\n",
       "      <td>No</td>\n",
       "      <td>No</td>\n",
       "      <td>No internet service</td>\n",
       "      <td>...</td>\n",
       "      <td>No internet service</td>\n",
       "      <td>No internet service</td>\n",
       "      <td>No internet service</td>\n",
       "      <td>No internet service</td>\n",
       "      <td>Two year</td>\n",
       "      <td>No</td>\n",
       "      <td>Mailed check</td>\n",
       "      <td>20.00</td>\n",
       "      <td></td>\n",
       "      <td>No</td>\n",
       "    </tr>\n",
       "    <tr>\n",
       "      <th>5218</th>\n",
       "      <td>2923-ARZLG</td>\n",
       "      <td>Male</td>\n",
       "      <td>0</td>\n",
       "      <td>Yes</td>\n",
       "      <td>Yes</td>\n",
       "      <td>0</td>\n",
       "      <td>Yes</td>\n",
       "      <td>No</td>\n",
       "      <td>No</td>\n",
       "      <td>No internet service</td>\n",
       "      <td>...</td>\n",
       "      <td>No internet service</td>\n",
       "      <td>No internet service</td>\n",
       "      <td>No internet service</td>\n",
       "      <td>No internet service</td>\n",
       "      <td>One year</td>\n",
       "      <td>Yes</td>\n",
       "      <td>Mailed check</td>\n",
       "      <td>19.70</td>\n",
       "      <td></td>\n",
       "      <td>No</td>\n",
       "    </tr>\n",
       "    <tr>\n",
       "      <th>6670</th>\n",
       "      <td>4075-WKNIU</td>\n",
       "      <td>Female</td>\n",
       "      <td>0</td>\n",
       "      <td>Yes</td>\n",
       "      <td>Yes</td>\n",
       "      <td>0</td>\n",
       "      <td>Yes</td>\n",
       "      <td>Yes</td>\n",
       "      <td>DSL</td>\n",
       "      <td>No</td>\n",
       "      <td>...</td>\n",
       "      <td>Yes</td>\n",
       "      <td>Yes</td>\n",
       "      <td>Yes</td>\n",
       "      <td>No</td>\n",
       "      <td>Two year</td>\n",
       "      <td>No</td>\n",
       "      <td>Mailed check</td>\n",
       "      <td>73.35</td>\n",
       "      <td></td>\n",
       "      <td>No</td>\n",
       "    </tr>\n",
       "    <tr>\n",
       "      <th>6754</th>\n",
       "      <td>2775-SEFEE</td>\n",
       "      <td>Male</td>\n",
       "      <td>0</td>\n",
       "      <td>No</td>\n",
       "      <td>Yes</td>\n",
       "      <td>0</td>\n",
       "      <td>Yes</td>\n",
       "      <td>Yes</td>\n",
       "      <td>DSL</td>\n",
       "      <td>Yes</td>\n",
       "      <td>...</td>\n",
       "      <td>No</td>\n",
       "      <td>Yes</td>\n",
       "      <td>No</td>\n",
       "      <td>No</td>\n",
       "      <td>Two year</td>\n",
       "      <td>Yes</td>\n",
       "      <td>Bank transfer (automatic)</td>\n",
       "      <td>61.90</td>\n",
       "      <td></td>\n",
       "      <td>No</td>\n",
       "    </tr>\n",
       "  </tbody>\n",
       "</table>\n",
       "<p>11 rows × 21 columns</p>\n",
       "</div>"
      ],
      "text/plain": [
       "      customerID  gender  SeniorCitizen Partner Dependents  tenure  \\\n",
       "488   4472-LVYGI  Female              0     Yes        Yes       0   \n",
       "753   3115-CZMZD    Male              0      No        Yes       0   \n",
       "936   5709-LVOEQ  Female              0     Yes        Yes       0   \n",
       "1082  4367-NUYAO    Male              0     Yes        Yes       0   \n",
       "1340  1371-DWPAZ  Female              0     Yes        Yes       0   \n",
       "3331  7644-OMVMY    Male              0     Yes        Yes       0   \n",
       "3826  3213-VVOLG    Male              0     Yes        Yes       0   \n",
       "4380  2520-SGTTA  Female              0     Yes        Yes       0   \n",
       "5218  2923-ARZLG    Male              0     Yes        Yes       0   \n",
       "6670  4075-WKNIU  Female              0     Yes        Yes       0   \n",
       "6754  2775-SEFEE    Male              0      No        Yes       0   \n",
       "\n",
       "     PhoneService     MultipleLines InternetService       OnlineSecurity  ...  \\\n",
       "488            No  No phone service             DSL                  Yes  ...   \n",
       "753           Yes                No              No  No internet service  ...   \n",
       "936           Yes                No             DSL                  Yes  ...   \n",
       "1082          Yes               Yes              No  No internet service  ...   \n",
       "1340           No  No phone service             DSL                  Yes  ...   \n",
       "3331          Yes                No              No  No internet service  ...   \n",
       "3826          Yes               Yes              No  No internet service  ...   \n",
       "4380          Yes                No              No  No internet service  ...   \n",
       "5218          Yes                No              No  No internet service  ...   \n",
       "6670          Yes               Yes             DSL                   No  ...   \n",
       "6754          Yes               Yes             DSL                  Yes  ...   \n",
       "\n",
       "         DeviceProtection          TechSupport          StreamingTV  \\\n",
       "488                   Yes                  Yes                  Yes   \n",
       "753   No internet service  No internet service  No internet service   \n",
       "936                   Yes                   No                  Yes   \n",
       "1082  No internet service  No internet service  No internet service   \n",
       "1340                  Yes                  Yes                  Yes   \n",
       "3331  No internet service  No internet service  No internet service   \n",
       "3826  No internet service  No internet service  No internet service   \n",
       "4380  No internet service  No internet service  No internet service   \n",
       "5218  No internet service  No internet service  No internet service   \n",
       "6670                  Yes                  Yes                  Yes   \n",
       "6754                   No                  Yes                   No   \n",
       "\n",
       "          StreamingMovies  Contract PaperlessBilling  \\\n",
       "488                    No  Two year              Yes   \n",
       "753   No internet service  Two year               No   \n",
       "936                   Yes  Two year               No   \n",
       "1082  No internet service  Two year               No   \n",
       "1340                   No  Two year               No   \n",
       "3331  No internet service  Two year               No   \n",
       "3826  No internet service  Two year               No   \n",
       "4380  No internet service  Two year               No   \n",
       "5218  No internet service  One year              Yes   \n",
       "6670                   No  Two year               No   \n",
       "6754                   No  Two year              Yes   \n",
       "\n",
       "                  PaymentMethod MonthlyCharges  TotalCharges Churn  \n",
       "488   Bank transfer (automatic)          52.55                  No  \n",
       "753                Mailed check          20.25                  No  \n",
       "936                Mailed check          80.85                  No  \n",
       "1082               Mailed check          25.75                  No  \n",
       "1340    Credit card (automatic)          56.05                  No  \n",
       "3331               Mailed check          19.85                  No  \n",
       "3826               Mailed check          25.35                  No  \n",
       "4380               Mailed check          20.00                  No  \n",
       "5218               Mailed check          19.70                  No  \n",
       "6670               Mailed check          73.35                  No  \n",
       "6754  Bank transfer (automatic)          61.90                  No  \n",
       "\n",
       "[11 rows x 21 columns]"
      ]
     },
     "execution_count": 292,
     "metadata": {},
     "output_type": "execute_result"
    }
   ],
   "source": [
    "#The below cold will extract all empty entries in the TotalCharge column\n",
    "df.loc[df['TotalCharges'].str.contains(\" \")]"
   ]
  },
  {
   "cell_type": "code",
   "execution_count": null,
   "id": "ea8bc5e9",
   "metadata": {},
   "outputs": [],
   "source": [
    "#I can see that 11 rows have empty entry for TotalCharges and the corresponding entry for tenure are zeros.\n",
    "# I will copy the entry from tenure to the entry for TotalCharges to make the entry for TotalCharges 0 for 0 tenure.\n",
    "# I will use the row index of each row to do the copying."
   ]
  },
  {
   "cell_type": "code",
   "execution_count": 36,
   "id": "9577b76d",
   "metadata": {},
   "outputs": [],
   "source": [
    "#The syntax for copying  generate warnings,i used the set_option method to  turn off  SettingWithCopyWarning\n",
    "pd.set_option('mode.chained_assignment', None)\n",
    "\n",
    "df.TotalCharges[488]=df.tenure[488]\n",
    "df.TotalCharges[753]=df.tenure[753]\n",
    "df.TotalCharges[936]=df.tenure[936]\n",
    "df.TotalCharges[1082]=df.tenure[1082]\n",
    "df.TotalCharges[1340]=df.tenure[1340]\n",
    "df.TotalCharges[3331]=df.tenure[3331]\n",
    "df.TotalCharges[3826]=df.tenure[3826]\n",
    "df.TotalCharges[4380]=df.tenure[4380]\n",
    "df.TotalCharges[5218]=df.tenure[5218]\n",
    "df.TotalCharges[6670]=df.tenure[6670]\n",
    "df.TotalCharges[6754]=df.tenure[6754]\n",
    "\n",
    "#I should have written a fucntion to automate this but due to time factors, this was not poasible"
   ]
  },
  {
   "cell_type": "code",
   "execution_count": 256,
   "id": "8aebe874",
   "metadata": {},
   "outputs": [
    {
     "data": {
      "text/plain": [
       "customerID           object\n",
       "gender               object\n",
       "SeniorCitizen         int64\n",
       "Partner              object\n",
       "Dependents           object\n",
       "tenure                int64\n",
       "PhoneService         object\n",
       "MultipleLines        object\n",
       "InternetService      object\n",
       "OnlineSecurity       object\n",
       "OnlineBackup         object\n",
       "DeviceProtection     object\n",
       "TechSupport          object\n",
       "StreamingTV          object\n",
       "StreamingMovies      object\n",
       "Contract             object\n",
       "PaperlessBilling     object\n",
       "PaymentMethod        object\n",
       "MonthlyCharges      float64\n",
       "TotalCharges         object\n",
       "Churn                object\n",
       "dtype: object"
      ]
     },
     "execution_count": 256,
     "metadata": {},
     "output_type": "execute_result"
    }
   ],
   "source": [
    "df.dtypes"
   ]
  },
  {
   "cell_type": "code",
   "execution_count": null,
   "id": "990c5061",
   "metadata": {},
   "outputs": [],
   "source": [
    "#I can see that the column for monthlyCharge has changed to float64 after feeling the empty values."
   ]
  },
  {
   "cell_type": "code",
   "execution_count": 258,
   "id": "f3152006",
   "metadata": {},
   "outputs": [],
   "source": [
    "#The columns for the services have some entries eg \"No\" and \"No Internet Services\" we have to change this to \"No\"\n",
    "# we run the below comand to change the entry all to No"
   ]
  },
  {
   "cell_type": "code",
   "execution_count": 259,
   "id": "2942654a",
   "metadata": {},
   "outputs": [],
   "source": [
    "df = df.replace(['No internet service', ''],'No')# We have have to repeat this to remove \"No Phone Service\""
   ]
  },
  {
   "cell_type": "code",
   "execution_count": 260,
   "id": "a916b3f8",
   "metadata": {},
   "outputs": [],
   "source": [
    "df = df.replace(['No phone service', ''],'No')"
   ]
  },
  {
   "cell_type": "code",
   "execution_count": 262,
   "id": "e10dde39",
   "metadata": {},
   "outputs": [
    {
     "data": {
      "text/html": [
       "<div>\n",
       "<style scoped>\n",
       "    .dataframe tbody tr th:only-of-type {\n",
       "        vertical-align: middle;\n",
       "    }\n",
       "\n",
       "    .dataframe tbody tr th {\n",
       "        vertical-align: top;\n",
       "    }\n",
       "\n",
       "    .dataframe thead th {\n",
       "        text-align: right;\n",
       "    }\n",
       "</style>\n",
       "<table border=\"1\" class=\"dataframe\">\n",
       "  <thead>\n",
       "    <tr style=\"text-align: right;\">\n",
       "      <th></th>\n",
       "      <th>customerID</th>\n",
       "      <th>gender</th>\n",
       "      <th>SeniorCitizen</th>\n",
       "      <th>Partner</th>\n",
       "      <th>Dependents</th>\n",
       "      <th>tenure</th>\n",
       "      <th>PhoneService</th>\n",
       "      <th>MultipleLines</th>\n",
       "      <th>InternetService</th>\n",
       "      <th>OnlineSecurity</th>\n",
       "      <th>...</th>\n",
       "      <th>DeviceProtection</th>\n",
       "      <th>TechSupport</th>\n",
       "      <th>StreamingTV</th>\n",
       "      <th>StreamingMovies</th>\n",
       "      <th>Contract</th>\n",
       "      <th>PaperlessBilling</th>\n",
       "      <th>PaymentMethod</th>\n",
       "      <th>MonthlyCharges</th>\n",
       "      <th>TotalCharges</th>\n",
       "      <th>Churn</th>\n",
       "    </tr>\n",
       "  </thead>\n",
       "  <tbody>\n",
       "    <tr>\n",
       "      <th>0</th>\n",
       "      <td>7590-VHVEG</td>\n",
       "      <td>Female</td>\n",
       "      <td>0</td>\n",
       "      <td>Yes</td>\n",
       "      <td>No</td>\n",
       "      <td>1</td>\n",
       "      <td>No</td>\n",
       "      <td>No</td>\n",
       "      <td>DSL</td>\n",
       "      <td>No</td>\n",
       "      <td>...</td>\n",
       "      <td>No</td>\n",
       "      <td>No</td>\n",
       "      <td>No</td>\n",
       "      <td>No</td>\n",
       "      <td>Month-to-month</td>\n",
       "      <td>Yes</td>\n",
       "      <td>Electronic check</td>\n",
       "      <td>29.85</td>\n",
       "      <td>29.85</td>\n",
       "      <td>No</td>\n",
       "    </tr>\n",
       "    <tr>\n",
       "      <th>1</th>\n",
       "      <td>5575-GNVDE</td>\n",
       "      <td>Male</td>\n",
       "      <td>0</td>\n",
       "      <td>No</td>\n",
       "      <td>No</td>\n",
       "      <td>34</td>\n",
       "      <td>Yes</td>\n",
       "      <td>No</td>\n",
       "      <td>DSL</td>\n",
       "      <td>Yes</td>\n",
       "      <td>...</td>\n",
       "      <td>Yes</td>\n",
       "      <td>No</td>\n",
       "      <td>No</td>\n",
       "      <td>No</td>\n",
       "      <td>One year</td>\n",
       "      <td>No</td>\n",
       "      <td>Mailed check</td>\n",
       "      <td>56.95</td>\n",
       "      <td>1889.5</td>\n",
       "      <td>No</td>\n",
       "    </tr>\n",
       "    <tr>\n",
       "      <th>2</th>\n",
       "      <td>3668-QPYBK</td>\n",
       "      <td>Male</td>\n",
       "      <td>0</td>\n",
       "      <td>No</td>\n",
       "      <td>No</td>\n",
       "      <td>2</td>\n",
       "      <td>Yes</td>\n",
       "      <td>No</td>\n",
       "      <td>DSL</td>\n",
       "      <td>Yes</td>\n",
       "      <td>...</td>\n",
       "      <td>No</td>\n",
       "      <td>No</td>\n",
       "      <td>No</td>\n",
       "      <td>No</td>\n",
       "      <td>Month-to-month</td>\n",
       "      <td>Yes</td>\n",
       "      <td>Mailed check</td>\n",
       "      <td>53.85</td>\n",
       "      <td>108.15</td>\n",
       "      <td>Yes</td>\n",
       "    </tr>\n",
       "    <tr>\n",
       "      <th>3</th>\n",
       "      <td>7795-CFOCW</td>\n",
       "      <td>Male</td>\n",
       "      <td>0</td>\n",
       "      <td>No</td>\n",
       "      <td>No</td>\n",
       "      <td>45</td>\n",
       "      <td>No</td>\n",
       "      <td>No</td>\n",
       "      <td>DSL</td>\n",
       "      <td>Yes</td>\n",
       "      <td>...</td>\n",
       "      <td>Yes</td>\n",
       "      <td>Yes</td>\n",
       "      <td>No</td>\n",
       "      <td>No</td>\n",
       "      <td>One year</td>\n",
       "      <td>No</td>\n",
       "      <td>Bank transfer (automatic)</td>\n",
       "      <td>42.30</td>\n",
       "      <td>1840.75</td>\n",
       "      <td>No</td>\n",
       "    </tr>\n",
       "    <tr>\n",
       "      <th>4</th>\n",
       "      <td>9237-HQITU</td>\n",
       "      <td>Female</td>\n",
       "      <td>0</td>\n",
       "      <td>No</td>\n",
       "      <td>No</td>\n",
       "      <td>2</td>\n",
       "      <td>Yes</td>\n",
       "      <td>No</td>\n",
       "      <td>Fiber optic</td>\n",
       "      <td>No</td>\n",
       "      <td>...</td>\n",
       "      <td>No</td>\n",
       "      <td>No</td>\n",
       "      <td>No</td>\n",
       "      <td>No</td>\n",
       "      <td>Month-to-month</td>\n",
       "      <td>Yes</td>\n",
       "      <td>Electronic check</td>\n",
       "      <td>70.70</td>\n",
       "      <td>151.65</td>\n",
       "      <td>Yes</td>\n",
       "    </tr>\n",
       "    <tr>\n",
       "      <th>...</th>\n",
       "      <td>...</td>\n",
       "      <td>...</td>\n",
       "      <td>...</td>\n",
       "      <td>...</td>\n",
       "      <td>...</td>\n",
       "      <td>...</td>\n",
       "      <td>...</td>\n",
       "      <td>...</td>\n",
       "      <td>...</td>\n",
       "      <td>...</td>\n",
       "      <td>...</td>\n",
       "      <td>...</td>\n",
       "      <td>...</td>\n",
       "      <td>...</td>\n",
       "      <td>...</td>\n",
       "      <td>...</td>\n",
       "      <td>...</td>\n",
       "      <td>...</td>\n",
       "      <td>...</td>\n",
       "      <td>...</td>\n",
       "      <td>...</td>\n",
       "    </tr>\n",
       "    <tr>\n",
       "      <th>295</th>\n",
       "      <td>8203-XJZRC</td>\n",
       "      <td>Male</td>\n",
       "      <td>0</td>\n",
       "      <td>No</td>\n",
       "      <td>No</td>\n",
       "      <td>1</td>\n",
       "      <td>Yes</td>\n",
       "      <td>No</td>\n",
       "      <td>No</td>\n",
       "      <td>No</td>\n",
       "      <td>...</td>\n",
       "      <td>No</td>\n",
       "      <td>No</td>\n",
       "      <td>No</td>\n",
       "      <td>No</td>\n",
       "      <td>Month-to-month</td>\n",
       "      <td>No</td>\n",
       "      <td>Mailed check</td>\n",
       "      <td>20.25</td>\n",
       "      <td>20.25</td>\n",
       "      <td>No</td>\n",
       "    </tr>\n",
       "    <tr>\n",
       "      <th>296</th>\n",
       "      <td>6556-DBKZF</td>\n",
       "      <td>Female</td>\n",
       "      <td>0</td>\n",
       "      <td>Yes</td>\n",
       "      <td>Yes</td>\n",
       "      <td>71</td>\n",
       "      <td>Yes</td>\n",
       "      <td>No</td>\n",
       "      <td>Fiber optic</td>\n",
       "      <td>No</td>\n",
       "      <td>...</td>\n",
       "      <td>Yes</td>\n",
       "      <td>No</td>\n",
       "      <td>No</td>\n",
       "      <td>No</td>\n",
       "      <td>Two year</td>\n",
       "      <td>No</td>\n",
       "      <td>Electronic check</td>\n",
       "      <td>76.05</td>\n",
       "      <td>5436.45</td>\n",
       "      <td>No</td>\n",
       "    </tr>\n",
       "    <tr>\n",
       "      <th>297</th>\n",
       "      <td>6851-WEFYX</td>\n",
       "      <td>Male</td>\n",
       "      <td>1</td>\n",
       "      <td>Yes</td>\n",
       "      <td>No</td>\n",
       "      <td>35</td>\n",
       "      <td>Yes</td>\n",
       "      <td>Yes</td>\n",
       "      <td>Fiber optic</td>\n",
       "      <td>No</td>\n",
       "      <td>...</td>\n",
       "      <td>Yes</td>\n",
       "      <td>No</td>\n",
       "      <td>Yes</td>\n",
       "      <td>Yes</td>\n",
       "      <td>Month-to-month</td>\n",
       "      <td>Yes</td>\n",
       "      <td>Electronic check</td>\n",
       "      <td>100.80</td>\n",
       "      <td>3437.5</td>\n",
       "      <td>No</td>\n",
       "    </tr>\n",
       "    <tr>\n",
       "      <th>298</th>\n",
       "      <td>2985-JUUBZ</td>\n",
       "      <td>Male</td>\n",
       "      <td>0</td>\n",
       "      <td>Yes</td>\n",
       "      <td>Yes</td>\n",
       "      <td>40</td>\n",
       "      <td>Yes</td>\n",
       "      <td>Yes</td>\n",
       "      <td>DSL</td>\n",
       "      <td>No</td>\n",
       "      <td>...</td>\n",
       "      <td>Yes</td>\n",
       "      <td>No</td>\n",
       "      <td>Yes</td>\n",
       "      <td>Yes</td>\n",
       "      <td>Month-to-month</td>\n",
       "      <td>Yes</td>\n",
       "      <td>Electronic check</td>\n",
       "      <td>74.55</td>\n",
       "      <td>3015.75</td>\n",
       "      <td>No</td>\n",
       "    </tr>\n",
       "    <tr>\n",
       "      <th>299</th>\n",
       "      <td>6390-DSAZX</td>\n",
       "      <td>Female</td>\n",
       "      <td>0</td>\n",
       "      <td>No</td>\n",
       "      <td>Yes</td>\n",
       "      <td>1</td>\n",
       "      <td>Yes</td>\n",
       "      <td>No</td>\n",
       "      <td>Fiber optic</td>\n",
       "      <td>Yes</td>\n",
       "      <td>...</td>\n",
       "      <td>No</td>\n",
       "      <td>No</td>\n",
       "      <td>No</td>\n",
       "      <td>No</td>\n",
       "      <td>Month-to-month</td>\n",
       "      <td>Yes</td>\n",
       "      <td>Mailed check</td>\n",
       "      <td>73.60</td>\n",
       "      <td>73.6</td>\n",
       "      <td>Yes</td>\n",
       "    </tr>\n",
       "  </tbody>\n",
       "</table>\n",
       "<p>300 rows × 21 columns</p>\n",
       "</div>"
      ],
      "text/plain": [
       "     customerID  gender  SeniorCitizen Partner Dependents  tenure  \\\n",
       "0    7590-VHVEG  Female              0     Yes         No       1   \n",
       "1    5575-GNVDE    Male              0      No         No      34   \n",
       "2    3668-QPYBK    Male              0      No         No       2   \n",
       "3    7795-CFOCW    Male              0      No         No      45   \n",
       "4    9237-HQITU  Female              0      No         No       2   \n",
       "..          ...     ...            ...     ...        ...     ...   \n",
       "295  8203-XJZRC    Male              0      No         No       1   \n",
       "296  6556-DBKZF  Female              0     Yes        Yes      71   \n",
       "297  6851-WEFYX    Male              1     Yes         No      35   \n",
       "298  2985-JUUBZ    Male              0     Yes        Yes      40   \n",
       "299  6390-DSAZX  Female              0      No        Yes       1   \n",
       "\n",
       "    PhoneService MultipleLines InternetService OnlineSecurity  ...  \\\n",
       "0             No            No             DSL             No  ...   \n",
       "1            Yes            No             DSL            Yes  ...   \n",
       "2            Yes            No             DSL            Yes  ...   \n",
       "3             No            No             DSL            Yes  ...   \n",
       "4            Yes            No     Fiber optic             No  ...   \n",
       "..           ...           ...             ...            ...  ...   \n",
       "295          Yes            No              No             No  ...   \n",
       "296          Yes            No     Fiber optic             No  ...   \n",
       "297          Yes           Yes     Fiber optic             No  ...   \n",
       "298          Yes           Yes             DSL             No  ...   \n",
       "299          Yes            No     Fiber optic            Yes  ...   \n",
       "\n",
       "    DeviceProtection TechSupport StreamingTV StreamingMovies        Contract  \\\n",
       "0                 No          No          No              No  Month-to-month   \n",
       "1                Yes          No          No              No        One year   \n",
       "2                 No          No          No              No  Month-to-month   \n",
       "3                Yes         Yes          No              No        One year   \n",
       "4                 No          No          No              No  Month-to-month   \n",
       "..               ...         ...         ...             ...             ...   \n",
       "295               No          No          No              No  Month-to-month   \n",
       "296              Yes          No          No              No        Two year   \n",
       "297              Yes          No         Yes             Yes  Month-to-month   \n",
       "298              Yes          No         Yes             Yes  Month-to-month   \n",
       "299               No          No          No              No  Month-to-month   \n",
       "\n",
       "    PaperlessBilling              PaymentMethod MonthlyCharges  TotalCharges  \\\n",
       "0                Yes           Electronic check          29.85         29.85   \n",
       "1                 No               Mailed check          56.95        1889.5   \n",
       "2                Yes               Mailed check          53.85        108.15   \n",
       "3                 No  Bank transfer (automatic)          42.30       1840.75   \n",
       "4                Yes           Electronic check          70.70        151.65   \n",
       "..               ...                        ...            ...           ...   \n",
       "295               No               Mailed check          20.25         20.25   \n",
       "296               No           Electronic check          76.05       5436.45   \n",
       "297              Yes           Electronic check         100.80        3437.5   \n",
       "298              Yes           Electronic check          74.55       3015.75   \n",
       "299              Yes               Mailed check          73.60          73.6   \n",
       "\n",
       "    Churn  \n",
       "0      No  \n",
       "1      No  \n",
       "2     Yes  \n",
       "3      No  \n",
       "4     Yes  \n",
       "..    ...  \n",
       "295    No  \n",
       "296    No  \n",
       "297    No  \n",
       "298    No  \n",
       "299   Yes  \n",
       "\n",
       "[300 rows x 21 columns]"
      ]
     },
     "execution_count": 262,
     "metadata": {},
     "output_type": "execute_result"
    }
   ],
   "source": [
    "#we can verify this by calling the below command\n",
    "df.head(300)"
   ]
  },
  {
   "cell_type": "code",
   "execution_count": 263,
   "id": "81226471",
   "metadata": {},
   "outputs": [],
   "source": [
    "#saving my changes to the original data frame.\n",
    "df=df"
   ]
  },
  {
   "cell_type": "markdown",
   "id": "5736fd45",
   "metadata": {},
   "source": [
    "QUESTIONS:"
   ]
  },
  {
   "cell_type": "code",
   "execution_count": null,
   "id": "494347a1",
   "metadata": {
    "scrolled": true
   },
   "outputs": [],
   "source": []
  },
  {
   "cell_type": "markdown",
   "id": "02ec077d",
   "metadata": {},
   "source": [
    "Questions 1 (a)\n",
    "Which 2 demographics have proven to be the most popular with the telco brand."
   ]
  },
  {
   "cell_type": "markdown",
   "id": "5828e5d6",
   "metadata": {},
   "source": []
  },
  {
   "cell_type": "markdown",
   "id": "aa6f79a3",
   "metadata": {},
   "source": [
    "The demographic characteristics according to the dataset include :- gender, senior citizen, partner,dependants\n",
    " I will determine the popularity of the brand based on the number  of churnings ."
   ]
  },
  {
   "cell_type": "code",
   "execution_count": null,
   "id": "640be3cb",
   "metadata": {
    "scrolled": true
   },
   "outputs": [],
   "source": []
  },
  {
   "cell_type": "code",
   "execution_count": 265,
   "id": "34f523df",
   "metadata": {},
   "outputs": [
    {
     "data": {
      "text/plain": [
       "gender  Churn\n",
       "Female  No       2549\n",
       "        Yes       939\n",
       "Male    No       2625\n",
       "        Yes       930\n",
       "Name: Churn, dtype: int64"
      ]
     },
     "execution_count": 265,
     "metadata": {},
     "output_type": "execute_result"
    }
   ],
   "source": [
    "#investigating rate of churning amoung males and females\n",
    "df.groupby([\"gender\", \"Churn\"])[\"Churn\"].count()"
   ]
  },
  {
   "cell_type": "code",
   "execution_count": 269,
   "id": "7792dd81",
   "metadata": {},
   "outputs": [],
   "source": [
    "#The resuts shows that more females have churn the brand than males"
   ]
  },
  {
   "cell_type": "code",
   "execution_count": null,
   "id": "01bb17f7",
   "metadata": {},
   "outputs": [],
   "source": []
  },
  {
   "cell_type": "code",
   "execution_count": 270,
   "id": "e0b6cfca",
   "metadata": {},
   "outputs": [
    {
     "data": {
      "text/plain": [
       "SeniorCitizen  Churn\n",
       "0              No       4508\n",
       "               Yes      1393\n",
       "1              No        666\n",
       "               Yes       476\n",
       "Name: Churn, dtype: int64"
      ]
     },
     "execution_count": 270,
     "metadata": {},
     "output_type": "execute_result"
    }
   ],
   "source": [
    "#investigating SeniorCitizen and non SeniorCitizen  to determine the popularity of the brand in this demogaphic characteristic\n",
    "df.groupby([\"SeniorCitizen\", \"Churn\"])[\"Churn\"].count()"
   ]
  },
  {
   "cell_type": "code",
   "execution_count": 50,
   "id": "064c87a3",
   "metadata": {},
   "outputs": [],
   "source": [
    "#illustrating this on a bar graph"
   ]
  },
  {
   "cell_type": "code",
   "execution_count": 271,
   "id": "a008b040",
   "metadata": {},
   "outputs": [
    {
     "data": {
      "text/plain": [
       "[Text(0.5, 0, 'SeniorCitizen/Churn'), Text(0, 0.5, 'Number of Churns')]"
      ]
     },
     "execution_count": 271,
     "metadata": {},
     "output_type": "execute_result"
    },
    {
     "data": {
      "image/png": "[encoded data removed]",
      "text/plain": [
       "<Figure size 640x480 with 1 Axes>"
      ]
     },
     "metadata": {},
     "output_type": "display_data"
    }
   ],
   "source": [
    "df.groupby([\"SeniorCitizen\", \"Churn\"])[\"Churn\"].count().plot(kind='bar', title='Graph showing Senior and non senior citizens who have churn the Telco Brand ').set(xlabel='SeniorCitizen/Churn', ylabel='Number of Churns')"
   ]
  },
  {
   "cell_type": "code",
   "execution_count": 51,
   "id": "78f1c40c",
   "metadata": {},
   "outputs": [],
   "source": [
    "#results shows more non SeniorcItizen subscribe to the brand than Senior Citizen and more senior citizen churned the brand."
   ]
  },
  {
   "cell_type": "markdown",
   "id": "3c03e7db",
   "metadata": {},
   "source": [
    "Therefore the demographics popular with the brand are Non Senior ctizens and males"
   ]
  },
  {
   "cell_type": "markdown",
   "id": "78a52d15",
   "metadata": {},
   "source": []
  },
  {
   "cell_type": "markdown",
   "id": "d7a0075e",
   "metadata": {},
   "source": [
    "1(b) If the marketing team wanted to increase customer retention, to whom should\n",
    "they target their advertisements to?"
   ]
  },
  {
   "cell_type": "code",
   "execution_count": null,
   "id": "6f4c82f2",
   "metadata": {},
   "outputs": [],
   "source": []
  },
  {
   "cell_type": "markdown",
   "id": "a4975239",
   "metadata": {},
   "source": [
    "Answer: They should target non senior citizens and females"
   ]
  },
  {
   "cell_type": "markdown",
   "id": "5f131556",
   "metadata": {},
   "source": []
  },
  {
   "cell_type": "markdown",
   "id": "dd2c5046",
   "metadata": {},
   "source": [
    "2 (a). Which 3 services are contributing to a higher monthly charge and resulting to\n",
    "customers churning? (Use visualizations in explaining your analysis)"
   ]
  },
  {
   "cell_type": "code",
   "execution_count": null,
   "id": "5477c7b0",
   "metadata": {},
   "outputs": [],
   "source": []
  },
  {
   "cell_type": "code",
   "execution_count": 274,
   "id": "e690d186",
   "metadata": {},
   "outputs": [],
   "source": [
    "# I will use seaborn to illustrate the pattern of churning and monthycharge across all services offered by Telco "
   ]
  },
  {
   "cell_type": "code",
   "execution_count": 275,
   "id": "483da371",
   "metadata": {},
   "outputs": [],
   "source": [
    "sns.set(style = \"dark\")"
   ]
  },
  {
   "cell_type": "code",
   "execution_count": 276,
   "id": "31b654c8",
   "metadata": {},
   "outputs": [
    {
     "data": {
      "text/plain": [
       "<seaborn.axisgrid.FacetGrid at 0x1b0d1a37490>"
      ]
     },
     "execution_count": 276,
     "metadata": {},
     "output_type": "execute_result"
    },
    {
     "data": {
      "image/png": "[encoded data removed]",
      "text/plain": [
       "<Figure size 1080x500 with 2 Axes>"
      ]
     },
     "metadata": {},
     "output_type": "display_data"
    }
   ],
   "source": [
    "sns.displot(x='MonthlyCharges',data=df, hue='Churn',col='PhoneService')"
   ]
  },
  {
   "cell_type": "code",
   "execution_count": 277,
   "id": "433ddf81",
   "metadata": {},
   "outputs": [
    {
     "data": {
      "text/plain": [
       "<seaborn.axisgrid.FacetGrid at 0x1b0d1a7bee0>"
      ]
     },
     "execution_count": 277,
     "metadata": {},
     "output_type": "execute_result"
    },
    {
     "data": {
      "image/png": "[encoded data removed]",
      "text/plain": [
       "<Figure size 1080x500 with 2 Axes>"
      ]
     },
     "metadata": {},
     "output_type": "display_data"
    }
   ],
   "source": [
    "sns.displot(x='MonthlyCharges',data=df, hue='Churn',col='MultipleLines')"
   ]
  },
  {
   "cell_type": "code",
   "execution_count": 278,
   "id": "e1639d55",
   "metadata": {},
   "outputs": [
    {
     "data": {
      "text/plain": [
       "<seaborn.axisgrid.FacetGrid at 0x1b0d32bbbb0>"
      ]
     },
     "execution_count": 278,
     "metadata": {},
     "output_type": "execute_result"
    },
    {
     "data": {
      "image/png": "[encoded data removed]",
      "text/plain": [
       "<Figure size 1580x500 with 3 Axes>"
      ]
     },
     "metadata": {},
     "output_type": "display_data"
    }
   ],
   "source": [
    "sns.displot(x='MonthlyCharges',data=df, hue='Churn',col='InternetService')"
   ]
  },
  {
   "cell_type": "code",
   "execution_count": 170,
   "id": "b083755c",
   "metadata": {},
   "outputs": [
    {
     "data": {
      "text/plain": [
       "<seaborn.axisgrid.FacetGrid at 0x1b0cb8c7d60>"
      ]
     },
     "execution_count": 170,
     "metadata": {},
     "output_type": "execute_result"
    },
    {
     "data": {
      "image/png": "[encoded data removed]",
      "text/plain": [
       "<Figure size 1080x500 with 2 Axes>"
      ]
     },
     "metadata": {},
     "output_type": "display_data"
    }
   ],
   "source": [
    "sns.displot(x='MonthlyCharges',data=df, hue='Churn',col='OnlineSecurity')"
   ]
  },
  {
   "cell_type": "code",
   "execution_count": 171,
   "id": "e115106f",
   "metadata": {},
   "outputs": [
    {
     "data": {
      "text/plain": [
       "<seaborn.axisgrid.FacetGrid at 0x1b0ce923a30>"
      ]
     },
     "execution_count": 171,
     "metadata": {},
     "output_type": "execute_result"
    },
    {
     "data": {
      "image/png": "[encoded data removed]",
      "text/plain": [
       "<Figure size 1080x500 with 2 Axes>"
      ]
     },
     "metadata": {},
     "output_type": "display_data"
    }
   ],
   "source": [
    "sns.displot(x='MonthlyCharges',data=df, hue='Churn',col='OnlineBackup')"
   ]
  },
  {
   "cell_type": "code",
   "execution_count": 279,
   "id": "ae12564b",
   "metadata": {},
   "outputs": [
    {
     "data": {
      "text/plain": [
       "<seaborn.axisgrid.FacetGrid at 0x1b0d38e7a00>"
      ]
     },
     "execution_count": 279,
     "metadata": {},
     "output_type": "execute_result"
    },
    {
     "data": {
      "image/png": "[encoded data removed]",
      "text/plain": [
       "<Figure size 1080x500 with 2 Axes>"
      ]
     },
     "metadata": {},
     "output_type": "display_data"
    }
   ],
   "source": [
    "sns.displot(x='MonthlyCharges',data=df, hue='Churn',col='DeviceProtection')"
   ]
  },
  {
   "cell_type": "code",
   "execution_count": 280,
   "id": "68466cfc",
   "metadata": {},
   "outputs": [
    {
     "data": {
      "text/plain": [
       "<seaborn.axisgrid.FacetGrid at 0x1b0d39eeb20>"
      ]
     },
     "execution_count": 280,
     "metadata": {},
     "output_type": "execute_result"
    },
    {
     "data": {
      "image/png": "[encoded data removed]",
      "text/plain": [
       "<Figure size 1080x500 with 2 Axes>"
      ]
     },
     "metadata": {},
     "output_type": "display_data"
    }
   ],
   "source": [
    "sns.displot(x='MonthlyCharges',data=df, hue='Churn',col='TechSupport')"
   ]
  },
  {
   "cell_type": "code",
   "execution_count": 281,
   "id": "5e4e4963",
   "metadata": {},
   "outputs": [
    {
     "data": {
      "text/plain": [
       "<seaborn.axisgrid.FacetGrid at 0x1b0d131ff40>"
      ]
     },
     "execution_count": 281,
     "metadata": {},
     "output_type": "execute_result"
    },
    {
     "data": {
      "image/png": "[encoded data removed]",
      "text/plain": [
       "<Figure size 1080x500 with 2 Axes>"
      ]
     },
     "metadata": {},
     "output_type": "display_data"
    }
   ],
   "source": [
    "sns.displot(x='MonthlyCharges',data=df, hue='Churn',col='StreamingTV')"
   ]
  },
  {
   "cell_type": "code",
   "execution_count": 175,
   "id": "6ae3644a",
   "metadata": {},
   "outputs": [
    {
     "data": {
      "text/plain": [
       "<seaborn.axisgrid.FacetGrid at 0x1b0ce141fa0>"
      ]
     },
     "execution_count": 175,
     "metadata": {},
     "output_type": "execute_result"
    },
    {
     "data": {
      "image/png": "[encoded data removed]",
      "text/plain": [
       "<Figure size 1080x500 with 2 Axes>"
      ]
     },
     "metadata": {},
     "output_type": "display_data"
    }
   ],
   "source": [
    "sns.displot(x='MonthlyCharges',data=df, hue='Churn',col='StreamingMovies')"
   ]
  },
  {
   "cell_type": "code",
   "execution_count": null,
   "id": "1b8348b1",
   "metadata": {},
   "outputs": [],
   "source": []
  },
  {
   "cell_type": "markdown",
   "id": "12a08174",
   "metadata": {},
   "source": [
    "The 3 services are: StreamingMovies, StreamingTV and OnlineBackup\n"
   ]
  },
  {
   "cell_type": "code",
   "execution_count": null,
   "id": "773ba36f",
   "metadata": {},
   "outputs": [],
   "source": []
  },
  {
   "cell_type": "markdown",
   "id": "50cfc4b5",
   "metadata": {},
   "source": [
    "2b. If the telco was to offer Phone as a standalone service, which type of contract\n",
    "would encourage customer retention?"
   ]
  },
  {
   "cell_type": "code",
   "execution_count": null,
   "id": "1f9712d1",
   "metadata": {},
   "outputs": [],
   "source": [
    "#I will group the data by the churn status, phone service status and contract types ,"
   ]
  },
  {
   "cell_type": "code",
   "execution_count": 150,
   "id": "4f3d8e1c",
   "metadata": {},
   "outputs": [
    {
     "data": {
      "text/plain": [
       "Churn  PhoneService  Contract      \n",
       "No     No            Month-to-month     223\n",
       "                     One year           131\n",
       "                     Two year           158\n",
       "       Yes           Month-to-month    1997\n",
       "                     One year          1176\n",
       "                     Two year          1489\n",
       "Yes    No            Month-to-month     153\n",
       "                     One year            14\n",
       "                     Two year             3\n",
       "       Yes           Month-to-month    1502\n",
       "                     One year           152\n",
       "                     Two year            45\n",
       "Name: Churn, dtype: int64"
      ]
     },
     "execution_count": 150,
     "metadata": {},
     "output_type": "execute_result"
    }
   ],
   "source": [
    "df.groupby([\"Churn\", \"PhoneService\", \"Contract\"])[\"Churn\"].count()"
   ]
  },
  {
   "cell_type": "code",
   "execution_count": 282,
   "id": "13413abe",
   "metadata": {},
   "outputs": [],
   "source": [
    "#Using Visualization we shall view the contract type that encourages retention."
   ]
  },
  {
   "cell_type": "code",
   "execution_count": 283,
   "id": "114d714a",
   "metadata": {},
   "outputs": [
    {
     "data": {
      "text/plain": [
       "<AxesSubplot:xlabel='Churn,PhoneService,Contract'>"
      ]
     },
     "execution_count": 283,
     "metadata": {},
     "output_type": "execute_result"
    },
    {
     "data": {
      "image/png": "[encoded data removed]",
      "text/plain": [
       "<Figure size 640x480 with 1 Axes>"
      ]
     },
     "metadata": {},
     "output_type": "display_data"
    }
   ],
   "source": [
    "df.groupby([\"Churn\", \"PhoneService\", \"Contract\"])[\"Churn\"].count().plot(kind='bar')"
   ]
  },
  {
   "cell_type": "code",
   "execution_count": null,
   "id": "0c1aa2d0",
   "metadata": {},
   "outputs": [],
   "source": []
  },
  {
   "cell_type": "markdown",
   "id": "aa9c3667",
   "metadata": {},
   "source": [
    "Considering the number of customers who have subscribed for the phone service and have not churn, the contract type is Month_to_Month"
   ]
  },
  {
   "cell_type": "code",
   "execution_count": null,
   "id": "15550601",
   "metadata": {},
   "outputs": [],
   "source": []
  },
  {
   "cell_type": "markdown",
   "id": "0fcec2a7",
   "metadata": {},
   "source": [
    "3) Payment: (Use visualizations in explaining your analysis)\n",
    "a. If the company was to streamline all its services into 3 bouquet packages, what\n",
    "monthly prices will be appropriate for the following packages to keep customers\n",
    "from churning:\n",
    "i. Basic\n",
    "ii. Plus\n",
    "iii. Premium\n"
   ]
  },
  {
   "cell_type": "code",
   "execution_count": null,
   "id": "8dcb300d",
   "metadata": {},
   "outputs": [],
   "source": []
  },
  {
   "cell_type": "markdown",
   "id": "2d270da8",
   "metadata": {},
   "source": [
    "#i) The Basic price"
   ]
  },
  {
   "cell_type": "code",
   "execution_count": 284,
   "id": "73e0803f",
   "metadata": {},
   "outputs": [],
   "source": [
    "# to get the basic price, i will get the minimum price for each service subscribed to by the customers and not churned, \n",
    "# Then I will get the average of the minimum prices to get the Basic price."
   ]
  },
  {
   "cell_type": "code",
   "execution_count": 176,
   "id": "3efafca2",
   "metadata": {},
   "outputs": [
    {
     "data": {
      "text/plain": [
       "PhoneService  Churn\n",
       "No            No       24.15\n",
       "              Yes      23.45\n",
       "Yes           No       18.25\n",
       "              Yes      18.85\n",
       "Name: MonthlyCharges, dtype: float64"
      ]
     },
     "execution_count": 176,
     "metadata": {},
     "output_type": "execute_result"
    }
   ],
   "source": [
    "df.groupby([\"PhoneService\", \"Churn\"])[\"MonthlyCharges\"].min()"
   ]
  },
  {
   "cell_type": "code",
   "execution_count": 194,
   "id": "5ea97196",
   "metadata": {},
   "outputs": [],
   "source": [
    "# basic price for phone service customers who have not churned the service\n",
    "a=18.25"
   ]
  },
  {
   "cell_type": "code",
   "execution_count": 177,
   "id": "e91076a4",
   "metadata": {},
   "outputs": [
    {
     "data": {
      "text/plain": [
       "MultipleLines   Churn\n",
       "No              No       18.25\n",
       "                Yes      18.85\n",
       "Yes             No       22.95\n",
       "                Yes      23.15\n",
       "Name: MonthlyCharges, dtype: float64"
      ]
     },
     "execution_count": 177,
     "metadata": {},
     "output_type": "execute_result"
    }
   ],
   "source": [
    "df.groupby([\"MultipleLines \", \"Churn\"])[\"MonthlyCharges\"].min()"
   ]
  },
  {
   "cell_type": "code",
   "execution_count": 195,
   "id": "7d597a60",
   "metadata": {},
   "outputs": [],
   "source": [
    "# basic price for phone MultipleLines customers who have not churned the service\n",
    "b=22.95"
   ]
  },
  {
   "cell_type": "code",
   "execution_count": 179,
   "id": "97569d75",
   "metadata": {},
   "outputs": [
    {
     "data": {
      "text/plain": [
       "InternetService  Churn\n",
       "DSL              No       24.15\n",
       "                 Yes      23.45\n",
       "Fiber optic      No       68.60\n",
       "                 Yes      67.75\n",
       "No               No       18.25\n",
       "                 Yes      18.85\n",
       "Name: MonthlyCharges, dtype: float64"
      ]
     },
     "execution_count": 179,
     "metadata": {},
     "output_type": "execute_result"
    }
   ],
   "source": [
    "df.groupby([\"InternetService\", \"Churn\"])[\"MonthlyCharges\"].min()"
   ]
  },
  {
   "cell_type": "code",
   "execution_count": 196,
   "id": "148a504f",
   "metadata": {},
   "outputs": [],
   "source": [
    "# basic price for internetservice  customers who have not churned the service , average of fiber and dsl connection types\n",
    "c=(68.6+24.15)/2"
   ]
  },
  {
   "cell_type": "code",
   "execution_count": 181,
   "id": "211db875",
   "metadata": {},
   "outputs": [
    {
     "data": {
      "text/plain": [
       "OnlineSecurity  Churn\n",
       "No              No       18.25\n",
       "                Yes      18.85\n",
       "Yes             No       28.50\n",
       "                Yes      29.70\n",
       "Name: MonthlyCharges, dtype: float64"
      ]
     },
     "execution_count": 181,
     "metadata": {},
     "output_type": "execute_result"
    }
   ],
   "source": [
    "df.groupby([\"OnlineSecurity\", \"Churn\"])[\"MonthlyCharges\"].min()"
   ]
  },
  {
   "cell_type": "code",
   "execution_count": 197,
   "id": "4a73aefa",
   "metadata": {},
   "outputs": [],
   "source": [
    "# basic price for OnlineSecurity customers who have not churned the service\n",
    "d=28.5"
   ]
  },
  {
   "cell_type": "code",
   "execution_count": 182,
   "id": "fd4da02f",
   "metadata": {},
   "outputs": [
    {
     "data": {
      "text/plain": [
       "OnlineBackup  Churn\n",
       "No            No       18.25\n",
       "              Yes      18.85\n",
       "Yes           No       29.15\n",
       "              Yes      28.45\n",
       "Name: MonthlyCharges, dtype: float64"
      ]
     },
     "execution_count": 182,
     "metadata": {},
     "output_type": "execute_result"
    }
   ],
   "source": [
    "df.groupby([\"OnlineBackup\", \"Churn\"])[\"MonthlyCharges\"].min()"
   ]
  },
  {
   "cell_type": "code",
   "execution_count": 198,
   "id": "52cebab3",
   "metadata": {},
   "outputs": [],
   "source": [
    "# basic price for OnlineBackup customers who have not churned the service\n",
    "e=29.15"
   ]
  },
  {
   "cell_type": "code",
   "execution_count": 183,
   "id": "d1875af6",
   "metadata": {},
   "outputs": [
    {
     "data": {
      "text/plain": [
       "DeviceProtection  Churn\n",
       "No                No       18.25\n",
       "                  Yes      18.85\n",
       "Yes               No       29.10\n",
       "                  Yes      29.40\n",
       "Name: MonthlyCharges, dtype: float64"
      ]
     },
     "execution_count": 183,
     "metadata": {},
     "output_type": "execute_result"
    }
   ],
   "source": [
    "df.groupby([\"DeviceProtection\", \"Churn\"])[\"MonthlyCharges\"].min()"
   ]
  },
  {
   "cell_type": "code",
   "execution_count": 199,
   "id": "defe8981",
   "metadata": {},
   "outputs": [],
   "source": [
    "# basic price for DeviceProtection customers who have not churned the service\n",
    "f=29.10"
   ]
  },
  {
   "cell_type": "code",
   "execution_count": 184,
   "id": "fe86d1ec",
   "metadata": {},
   "outputs": [
    {
     "data": {
      "text/plain": [
       "TechSupport  Churn\n",
       "No           No       18.25\n",
       "             Yes      18.85\n",
       "Yes          No       29.05\n",
       "             Yes      28.60\n",
       "Name: MonthlyCharges, dtype: float64"
      ]
     },
     "execution_count": 184,
     "metadata": {},
     "output_type": "execute_result"
    }
   ],
   "source": [
    "df.groupby([\"TechSupport\", \"Churn\"])[\"MonthlyCharges\"].min()"
   ]
  },
  {
   "cell_type": "code",
   "execution_count": 200,
   "id": "f7978c43",
   "metadata": {},
   "outputs": [],
   "source": [
    "# basic price for TechSupport customers who have not churned the service\n",
    "g=29.05"
   ]
  },
  {
   "cell_type": "code",
   "execution_count": 185,
   "id": "22eefe22",
   "metadata": {},
   "outputs": [
    {
     "data": {
      "text/plain": [
       "StreamingTV  Churn\n",
       "No           No       18.25\n",
       "             Yes      18.85\n",
       "Yes          No       33.75\n",
       "             Yes      34.00\n",
       "Name: MonthlyCharges, dtype: float64"
      ]
     },
     "execution_count": 185,
     "metadata": {},
     "output_type": "execute_result"
    }
   ],
   "source": [
    "df.groupby([\"StreamingTV\", \"Churn\"])[\"MonthlyCharges\"].min()"
   ]
  },
  {
   "cell_type": "code",
   "execution_count": 201,
   "id": "259d8158",
   "metadata": {},
   "outputs": [],
   "source": [
    "# basic price for StreamingTV customers who have not churned the service\n",
    "h=33.75"
   ]
  },
  {
   "cell_type": "code",
   "execution_count": 186,
   "id": "67d04fb5",
   "metadata": {},
   "outputs": [
    {
     "data": {
      "text/plain": [
       "StreamingMovies  Churn\n",
       "No               No       18.25\n",
       "                 Yes      18.85\n",
       "Yes              No       34.20\n",
       "                 Yes      33.90\n",
       "Name: MonthlyCharges, dtype: float64"
      ]
     },
     "execution_count": 186,
     "metadata": {},
     "output_type": "execute_result"
    }
   ],
   "source": [
    "df.groupby([\"StreamingMovies\", \"Churn\"])[\"MonthlyCharges\"].min()"
   ]
  },
  {
   "cell_type": "code",
   "execution_count": 202,
   "id": "1064a03b",
   "metadata": {},
   "outputs": [],
   "source": [
    "# basic price for StreamingMovies customers who have not churned the service\n",
    "i=34.20"
   ]
  },
  {
   "cell_type": "code",
   "execution_count": 204,
   "id": "34719d70",
   "metadata": {},
   "outputs": [
    {
     "data": {
      "text/plain": [
       "30.147222222222222"
      ]
     },
     "execution_count": 204,
     "metadata": {},
     "output_type": "execute_result"
    }
   ],
   "source": [
    "#the basic price will be the average of the minimum  costs customers were willing to pay for all services\n",
    "(a+b+c+d+e+f+g+h+i)/9\n"
   ]
  },
  {
   "cell_type": "markdown",
   "id": "f1b3fa5c",
   "metadata": {},
   "source": [
    "Therefore the basic price is 30.15"
   ]
  },
  {
   "cell_type": "code",
   "execution_count": null,
   "id": "2922c858",
   "metadata": {},
   "outputs": [],
   "source": []
  },
  {
   "cell_type": "markdown",
   "id": "65ec7e77",
   "metadata": {},
   "source": [
    "ii. Plus price"
   ]
  },
  {
   "cell_type": "code",
   "execution_count": null,
   "id": "f9fbcc95",
   "metadata": {},
   "outputs": [],
   "source": [
    "# This will be the average of the average price customers where willing to pay for each service without churning the service"
   ]
  },
  {
   "cell_type": "code",
   "execution_count": 205,
   "id": "3182f5d4",
   "metadata": {},
   "outputs": [
    {
     "data": {
      "text/plain": [
       "PhoneService  Churn\n",
       "No            No       43.520996\n",
       "              Yes      37.533824\n",
       "Yes           No       63.213857\n",
       "              Yes      78.134255\n",
       "Name: MonthlyCharges, dtype: float64"
      ]
     },
     "execution_count": 205,
     "metadata": {},
     "output_type": "execute_result"
    }
   ],
   "source": [
    "df.groupby([\"PhoneService\", \"Churn\"])[\"MonthlyCharges\"].mean()"
   ]
  },
  {
   "cell_type": "code",
   "execution_count": 285,
   "id": "9062f227",
   "metadata": {},
   "outputs": [],
   "source": [
    "aa=63.21 # The average price for the phone service for customers who didnt churn the service, I will repeat this procedure for all."
   ]
  },
  {
   "cell_type": "code",
   "execution_count": 207,
   "id": "bb8df4a9",
   "metadata": {},
   "outputs": [
    {
     "data": {
      "text/plain": [
       "MultipleLines   Churn\n",
       "No              No       48.792794\n",
       "                Yes      62.237831\n",
       "Yes             No       79.217987\n",
       "                Yes      89.071176\n",
       "Name: MonthlyCharges, dtype: float64"
      ]
     },
     "execution_count": 207,
     "metadata": {},
     "output_type": "execute_result"
    }
   ],
   "source": [
    "df.groupby([\"MultipleLines \", \"Churn\"])[\"MonthlyCharges\"].mean()"
   ]
  },
  {
   "cell_type": "code",
   "execution_count": 208,
   "id": "2bb66819",
   "metadata": {},
   "outputs": [],
   "source": [
    "bb=79.2"
   ]
  },
  {
   "cell_type": "code",
   "execution_count": 209,
   "id": "7abc598d",
   "metadata": {},
   "outputs": [
    {
     "data": {
      "text/plain": [
       "InternetService  Churn\n",
       "DSL              No       60.212105\n",
       "                 Yes      49.083224\n",
       "Fiber optic      No       93.932379\n",
       "                 Yes      88.126484\n",
       "No               No       21.136058\n",
       "                 Yes      20.368142\n",
       "Name: MonthlyCharges, dtype: float64"
      ]
     },
     "execution_count": 209,
     "metadata": {},
     "output_type": "execute_result"
    }
   ],
   "source": [
    "df.groupby([\"InternetService\", \"Churn\"])[\"MonthlyCharges\"].mean()"
   ]
  },
  {
   "cell_type": "code",
   "execution_count": 211,
   "id": "dea31646",
   "metadata": {},
   "outputs": [],
   "source": [
    "cc=(60+94)/2"
   ]
  },
  {
   "cell_type": "code",
   "execution_count": 213,
   "id": "6d35dc81",
   "metadata": {},
   "outputs": [
    {
     "data": {
      "text/plain": [
       "OnlineSecurity  Churn\n",
       "No              No       52.717928\n",
       "                Yes      73.103145\n",
       "Yes             No       78.369432\n",
       "                Yes      81.581356\n",
       "Name: MonthlyCharges, dtype: float64"
      ]
     },
     "execution_count": 213,
     "metadata": {},
     "output_type": "execute_result"
    }
   ],
   "source": [
    "df.groupby([\"OnlineSecurity\", \"Churn\"])[\"MonthlyCharges\"].mean()"
   ]
  },
  {
   "cell_type": "code",
   "execution_count": 214,
   "id": "f8f61b6a",
   "metadata": {},
   "outputs": [],
   "source": [
    "dd=78.369432"
   ]
  },
  {
   "cell_type": "code",
   "execution_count": 215,
   "id": "20c2f630",
   "metadata": {},
   "outputs": [
    {
     "data": {
      "text/plain": [
       "OnlineBackup  Churn\n",
       "No            No       49.001209\n",
       "              Yes      69.966902\n",
       "Yes           No       82.292655\n",
       "              Yes      85.956788\n",
       "Name: MonthlyCharges, dtype: float64"
      ]
     },
     "execution_count": 215,
     "metadata": {},
     "output_type": "execute_result"
    }
   ],
   "source": [
    "df.groupby([\"OnlineBackup\", \"Churn\"])[\"MonthlyCharges\"].mean()"
   ]
  },
  {
   "cell_type": "code",
   "execution_count": 225,
   "id": "2c9b3664",
   "metadata": {},
   "outputs": [],
   "source": [
    "ee=82.3"
   ]
  },
  {
   "cell_type": "code",
   "execution_count": 216,
   "id": "95342375",
   "metadata": {},
   "outputs": [
    {
     "data": {
      "text/plain": [
       "DeviceProtection  Churn\n",
       "No                No       48.414695\n",
       "                  Yes      68.771790\n",
       "Yes               No       83.837240\n",
       "                  Yes      88.214679\n",
       "Name: MonthlyCharges, dtype: float64"
      ]
     },
     "execution_count": 216,
     "metadata": {},
     "output_type": "execute_result"
    }
   ],
   "source": [
    "df.groupby([\"DeviceProtection\", \"Churn\"])[\"MonthlyCharges\"].mean()"
   ]
  },
  {
   "cell_type": "code",
   "execution_count": 217,
   "id": "4bd0840b",
   "metadata": {},
   "outputs": [],
   "source": [
    "ff=83.8"
   ]
  },
  {
   "cell_type": "code",
   "execution_count": 218,
   "id": "0a786bc5",
   "metadata": {},
   "outputs": [
    {
     "data": {
      "text/plain": [
       "TechSupport  Churn\n",
       "No           No       51.800872\n",
       "             Yes      72.489673\n",
       "Yes          No       80.040802\n",
       "             Yes      84.256290\n",
       "Name: MonthlyCharges, dtype: float64"
      ]
     },
     "execution_count": 218,
     "metadata": {},
     "output_type": "execute_result"
    }
   ],
   "source": [
    "df.groupby([\"TechSupport\", \"Churn\"])[\"MonthlyCharges\"].mean()"
   ]
  },
  {
   "cell_type": "code",
   "execution_count": 219,
   "id": "b267425a",
   "metadata": {},
   "outputs": [],
   "source": [
    "gg=80"
   ]
  },
  {
   "cell_type": "markdown",
   "id": "3845faff",
   "metadata": {},
   "source": []
  },
  {
   "cell_type": "code",
   "execution_count": 220,
   "id": "51af4bc3",
   "metadata": {},
   "outputs": [
    {
     "data": {
      "text/plain": [
       "StreamingTV  Churn\n",
       "No           No       45.851951\n",
       "             Yes      62.053081\n",
       "Yes          No       87.979662\n",
       "             Yes      90.497359\n",
       "Name: MonthlyCharges, dtype: float64"
      ]
     },
     "execution_count": 220,
     "metadata": {},
     "output_type": "execute_result"
    }
   ],
   "source": [
    "df.groupby([\"StreamingTV\", \"Churn\"])[\"MonthlyCharges\"].mean()"
   ]
  },
  {
   "cell_type": "code",
   "execution_count": 227,
   "id": "1a5d3ff6",
   "metadata": {},
   "outputs": [],
   "source": [
    "hh=88"
   ]
  },
  {
   "cell_type": "code",
   "execution_count": 221,
   "id": "bf0762cd",
   "metadata": {},
   "outputs": [
    {
     "data": {
      "text/plain": [
       "StreamingMovies  Churn\n",
       "No               No       45.655153\n",
       "                 Yes      62.383587\n",
       "Yes              No       87.852638\n",
       "                 Yes      89.933619\n",
       "Name: MonthlyCharges, dtype: float64"
      ]
     },
     "execution_count": 221,
     "metadata": {},
     "output_type": "execute_result"
    }
   ],
   "source": [
    "df.groupby([\"StreamingMovies\", \"Churn\"])[\"MonthlyCharges\"].mean()"
   ]
  },
  {
   "cell_type": "code",
   "execution_count": 222,
   "id": "a15c10f8",
   "metadata": {},
   "outputs": [],
   "source": [
    "ii=88"
   ]
  },
  {
   "cell_type": "code",
   "execution_count": 228,
   "id": "3f581df3",
   "metadata": {},
   "outputs": [],
   "source": [
    "plus_month_price=(aa+bb+cc+dd+ee+ff+gg+hh+ii)/9 "
   ]
  },
  {
   "cell_type": "code",
   "execution_count": 229,
   "id": "d55a92d3",
   "metadata": {},
   "outputs": [
    {
     "data": {
      "text/plain": [
       "79.98660355555555"
      ]
     },
     "execution_count": 229,
     "metadata": {},
     "output_type": "execute_result"
    }
   ],
   "source": [
    "plus_month_price"
   ]
  },
  {
   "cell_type": "markdown",
   "id": "39c11015",
   "metadata": {},
   "source": [
    "The Plus price will be 79.99 approx 80."
   ]
  },
  {
   "cell_type": "code",
   "execution_count": null,
   "id": "cd489c58",
   "metadata": {},
   "outputs": [],
   "source": []
  },
  {
   "cell_type": "markdown",
   "id": "01b33072",
   "metadata": {},
   "source": [
    " iii. Premium"
   ]
  },
  {
   "cell_type": "code",
   "execution_count": 230,
   "id": "f9f126be",
   "metadata": {},
   "outputs": [],
   "source": [
    "#The Premium price will be the average of the maximum price for each service paid by customers who didnt churn the service"
   ]
  },
  {
   "cell_type": "code",
   "execution_count": 231,
   "id": "3d549fc1",
   "metadata": {},
   "outputs": [
    {
     "data": {
      "text/plain": [
       "PhoneService  Churn\n",
       "No            No        67.20\n",
       "              Yes       60.45\n",
       "Yes           No       118.75\n",
       "              Yes      118.35\n",
       "Name: MonthlyCharges, dtype: float64"
      ]
     },
     "execution_count": 231,
     "metadata": {},
     "output_type": "execute_result"
    }
   ],
   "source": [
    "df.groupby([\"PhoneService\", \"Churn\"])[\"MonthlyCharges\"].max()"
   ]
  },
  {
   "cell_type": "code",
   "execution_count": 232,
   "id": "13222045",
   "metadata": {},
   "outputs": [],
   "source": [
    "aaa=119"
   ]
  },
  {
   "cell_type": "code",
   "execution_count": 233,
   "id": "e00eac03",
   "metadata": {},
   "outputs": [
    {
     "data": {
      "text/plain": [
       "MultipleLines   Churn\n",
       "No              No       112.20\n",
       "                Yes      110.10\n",
       "Yes             No       118.75\n",
       "                Yes      118.35\n",
       "Name: MonthlyCharges, dtype: float64"
      ]
     },
     "execution_count": 233,
     "metadata": {},
     "output_type": "execute_result"
    }
   ],
   "source": [
    "df.groupby([\"MultipleLines \", \"Churn\"])[\"MonthlyCharges\"].max()"
   ]
  },
  {
   "cell_type": "code",
   "execution_count": 234,
   "id": "2c2b2e60",
   "metadata": {},
   "outputs": [],
   "source": [
    "bbb=119"
   ]
  },
  {
   "cell_type": "code",
   "execution_count": 235,
   "id": "1b050921",
   "metadata": {},
   "outputs": [
    {
     "data": {
      "text/plain": [
       "InternetService  Churn\n",
       "DSL              No        94.80\n",
       "                 Yes       92.45\n",
       "Fiber optic      No       118.75\n",
       "                 Yes      118.35\n",
       "No               No        26.90\n",
       "                 Yes       25.90\n",
       "Name: MonthlyCharges, dtype: float64"
      ]
     },
     "execution_count": 235,
     "metadata": {},
     "output_type": "execute_result"
    }
   ],
   "source": [
    "df.groupby([\"InternetService\", \"Churn\"])[\"MonthlyCharges\"].max()"
   ]
  },
  {
   "cell_type": "code",
   "execution_count": 236,
   "id": "80b4ecf7",
   "metadata": {},
   "outputs": [],
   "source": [
    "ccc=(94.8+119)/2"
   ]
  },
  {
   "cell_type": "code",
   "execution_count": 237,
   "id": "df235137",
   "metadata": {},
   "outputs": [
    {
     "data": {
      "text/plain": [
       "OnlineSecurity  Churn\n",
       "No              No       114.10\n",
       "                Yes      112.95\n",
       "Yes             No       118.75\n",
       "                Yes      118.35\n",
       "Name: MonthlyCharges, dtype: float64"
      ]
     },
     "execution_count": 237,
     "metadata": {},
     "output_type": "execute_result"
    }
   ],
   "source": [
    "df.groupby([\"OnlineSecurity\", \"Churn\"])[\"MonthlyCharges\"].max()"
   ]
  },
  {
   "cell_type": "code",
   "execution_count": 238,
   "id": "e1f105b5",
   "metadata": {},
   "outputs": [],
   "source": [
    "ddd=119"
   ]
  },
  {
   "cell_type": "code",
   "execution_count": 239,
   "id": "dc7bc2d9",
   "metadata": {},
   "outputs": [
    {
     "data": {
      "text/plain": [
       "OnlineBackup  Churn\n",
       "No            No       112.95\n",
       "              Yes      111.60\n",
       "Yes           No       118.75\n",
       "              Yes      118.35\n",
       "Name: MonthlyCharges, dtype: float64"
      ]
     },
     "execution_count": 239,
     "metadata": {},
     "output_type": "execute_result"
    }
   ],
   "source": [
    "df.groupby([\"OnlineBackup\", \"Churn\"])[\"MonthlyCharges\"].max()"
   ]
  },
  {
   "cell_type": "code",
   "execution_count": 240,
   "id": "19834825",
   "metadata": {},
   "outputs": [],
   "source": [
    "eee=119"
   ]
  },
  {
   "cell_type": "code",
   "execution_count": 241,
   "id": "b5b62767",
   "metadata": {},
   "outputs": [
    {
     "data": {
      "text/plain": [
       "DeviceProtection  Churn\n",
       "No                No       111.10\n",
       "                  Yes      111.25\n",
       "Yes               No       118.75\n",
       "                  Yes      118.35\n",
       "Name: MonthlyCharges, dtype: float64"
      ]
     },
     "execution_count": 241,
     "metadata": {},
     "output_type": "execute_result"
    }
   ],
   "source": [
    "df.groupby([\"DeviceProtection\", \"Churn\"])[\"MonthlyCharges\"].max()"
   ]
  },
  {
   "cell_type": "code",
   "execution_count": 242,
   "id": "2824f6f1",
   "metadata": {},
   "outputs": [],
   "source": [
    "fff=119"
   ]
  },
  {
   "cell_type": "code",
   "execution_count": 243,
   "id": "d2bc6dd1",
   "metadata": {},
   "outputs": [
    {
     "data": {
      "text/plain": [
       "TechSupport  Churn\n",
       "No           No       112.40\n",
       "             Yes      113.20\n",
       "Yes          No       118.75\n",
       "             Yes      118.35\n",
       "Name: MonthlyCharges, dtype: float64"
      ]
     },
     "execution_count": 243,
     "metadata": {},
     "output_type": "execute_result"
    }
   ],
   "source": [
    "df.groupby([\"TechSupport\", \"Churn\"])[\"MonthlyCharges\"].max()"
   ]
  },
  {
   "cell_type": "code",
   "execution_count": 249,
   "id": "c8f016ed",
   "metadata": {},
   "outputs": [],
   "source": [
    "ggg=119"
   ]
  },
  {
   "cell_type": "code",
   "execution_count": 244,
   "id": "ebd3b0f0",
   "metadata": {},
   "outputs": [
    {
     "data": {
      "text/plain": [
       "StreamingTV  Churn\n",
       "No           No       107.45\n",
       "             Yes      102.00\n",
       "Yes          No       118.75\n",
       "             Yes      118.35\n",
       "Name: MonthlyCharges, dtype: float64"
      ]
     },
     "execution_count": 244,
     "metadata": {},
     "output_type": "execute_result"
    }
   ],
   "source": [
    "df.groupby([\"StreamingTV\", \"Churn\"])[\"MonthlyCharges\"].max()"
   ]
  },
  {
   "cell_type": "code",
   "execution_count": 245,
   "id": "2652967e",
   "metadata": {},
   "outputs": [],
   "source": [
    "hhh=119"
   ]
  },
  {
   "cell_type": "code",
   "execution_count": 247,
   "id": "b9f9d1f3",
   "metadata": {},
   "outputs": [
    {
     "data": {
      "text/plain": [
       "StreamingMovies  Churn\n",
       "No               No       106.65\n",
       "                 Yes      106.75\n",
       "Yes              No       118.75\n",
       "                 Yes      118.35\n",
       "Name: MonthlyCharges, dtype: float64"
      ]
     },
     "execution_count": 247,
     "metadata": {},
     "output_type": "execute_result"
    }
   ],
   "source": [
    "df.groupby([\"StreamingMovies\", \"Churn\"])[\"MonthlyCharges\"].max()"
   ]
  },
  {
   "cell_type": "code",
   "execution_count": 251,
   "id": "eba1930b",
   "metadata": {},
   "outputs": [],
   "source": [
    "iii=119"
   ]
  },
  {
   "cell_type": "code",
   "execution_count": 252,
   "id": "ba94fa34",
   "metadata": {},
   "outputs": [],
   "source": [
    "#The Premium price will be the average of the above max monthy charges\n",
    "premium=(aaa+bbb+ccc+ddd+eee+fff+ggg+hhh+iii)/9"
   ]
  },
  {
   "cell_type": "code",
   "execution_count": 253,
   "id": "cacba6c6",
   "metadata": {},
   "outputs": [
    {
     "data": {
      "text/plain": [
       "117.65555555555557"
      ]
     },
     "execution_count": 253,
     "metadata": {},
     "output_type": "execute_result"
    }
   ],
   "source": [
    "premium"
   ]
  },
  {
   "cell_type": "markdown",
   "id": "f4986e2e",
   "metadata": {},
   "source": [
    "The Premium price is 118 "
   ]
  },
  {
   "cell_type": "code",
   "execution_count": null,
   "id": "0fef9116",
   "metadata": {},
   "outputs": [],
   "source": []
  },
  {
   "cell_type": "markdown",
   "id": "974156c1",
   "metadata": {},
   "source": [
    "b. Should the company strictly go paperless for their monthly billings as a technique\n",
    "of keeping their customers and why?"
   ]
  },
  {
   "cell_type": "code",
   "execution_count": 286,
   "id": "62fa3539",
   "metadata": {},
   "outputs": [
    {
     "data": {
      "text/plain": [
       "PaperlessBilling\n",
       "No     2872\n",
       "Yes    4171\n",
       "Name: PaperlessBilling, dtype: int64"
      ]
     },
     "execution_count": 286,
     "metadata": {},
     "output_type": "execute_result"
    }
   ],
   "source": [
    "df.groupby([\"PaperlessBilling\"])[\"PaperlessBilling\"].count()"
   ]
  },
  {
   "cell_type": "code",
   "execution_count": null,
   "id": "c6d1e4ec",
   "metadata": {},
   "outputs": [],
   "source": []
  },
  {
   "cell_type": "code",
   "execution_count": 166,
   "id": "468da041",
   "metadata": {},
   "outputs": [
    {
     "data": {
      "text/plain": [
       "Churn  PaperlessBilling\n",
       "No     No                  2403\n",
       "       Yes                 2771\n",
       "Yes    No                   469\n",
       "       Yes                 1400\n",
       "Name: PaperlessBilling, dtype: int64"
      ]
     },
     "execution_count": 166,
     "metadata": {},
     "output_type": "execute_result"
    }
   ],
   "source": [
    "df.groupby([\"Churn\", \"PaperlessBilling\"])[\"PaperlessBilling\"].count()"
   ]
  },
  {
   "cell_type": "code",
   "execution_count": null,
   "id": "81d225cb",
   "metadata": {},
   "outputs": [],
   "source": []
  },
  {
   "cell_type": "markdown",
   "id": "4247806f",
   "metadata": {},
   "source": [
    "yes, paper billing should be stoped as majority of the staff who churn the company were on paper billing"
   ]
  },
  {
   "cell_type": "code",
   "execution_count": null,
   "id": "b006f0fd",
   "metadata": {},
   "outputs": [],
   "source": []
  }
 ],
 "metadata": {
  "kernelspec": {
   "display_name": "Python 3 (ipykernel)",
   "language": "python",
   "name": "python3"
  },
  "language_info": {
   "codemirror_mode": {
    "name": "ipython",
    "version": 3
   },
   "file_extension": ".py",
   "mimetype": "text/x-python",
   "name": "python",
   "nbconvert_exporter": "python",
   "pygments_lexer": "ipython3",
   "version": "3.9.13"
  }
 },
 "nbformat": 4,
 "nbformat_minor": 5
}
